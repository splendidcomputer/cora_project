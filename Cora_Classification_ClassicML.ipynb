{
  "nbformat": 4,
  "nbformat_minor": 0,
  "metadata": {
    "colab": {
      "provenance": []
    },
    "kernelspec": {
      "name": "python3",
      "display_name": "Python 3"
    },
    "language_info": {
      "name": "python"
    },
    "gpuClass": "standard"
  },
  "cells": [
    {
      "cell_type": "code",
      "source": [
        "!git clone https://github.com/splendidcomputer/cora_project"
      ],
      "metadata": {
        "id": "CYQHCQ_ETHHi",
        "outputId": "16c99a08-bbd4-4f6c-8a59-3887c918238c",
        "colab": {
          "base_uri": "https://localhost:8080/"
        }
      },
      "execution_count": 1,
      "outputs": [
        {
          "output_type": "stream",
          "name": "stdout",
          "text": [
            "Cloning into 'cora_project'...\n",
            "remote: Enumerating objects: 240, done.\u001b[K\n",
            "remote: Counting objects: 100% (150/150), done.\u001b[K\n",
            "remote: Compressing objects: 100% (76/76), done.\u001b[K\n",
            "remote: Total 240 (delta 94), reused 119 (delta 74), pack-reused 90\u001b[K\n",
            "Receiving objects: 100% (240/240), 422.75 KiB | 5.87 MiB/s, done.\n",
            "Resolving deltas: 100% (146/146), done.\n"
          ]
        }
      ]
    },
    {
      "cell_type": "code",
      "execution_count": 2,
      "metadata": {
        "id": "ZRZfhfO1SdUa"
      },
      "outputs": [],
      "source": [
        "import pandas as pd\n",
        "import numpy as np\n",
        "\n",
        "from keras.utils import np_utils\n",
        "\n",
        "from sklearn.preprocessing import LabelEncoder\n",
        "from sklearn.model_selection import StratifiedKFold\n",
        "\n",
        "from sklearn.ensemble import RandomForestClassifier as RF\n",
        "from sklearn.discriminant_analysis import LinearDiscriminantAnalysis as LDA\n",
        "from sklearn.discriminant_analysis import QuadraticDiscriminantAnalysis as QDA\n",
        "from xgboost import XGBClassifier as XGB\n",
        "from sklearn.svm import SVC\n",
        "from sklearn.neighbors import KNeighborsClassifier as KNN\n",
        "from sklearn.linear_model import LogisticRegression as LR\n",
        "from sklearn.naive_bayes import GaussianNB as GNB\n",
        "from sklearn.naive_bayes import MultinomialNB as MNB\n",
        "\n",
        "from sklearn.model_selection import cross_val_score\n",
        "from sklearn.metrics import accuracy_score\n",
        "\n"
      ]
    },
    {
      "cell_type": "code",
      "source": [
        "cora = pd.read_csv(\"./cora_project/cora.content\", delimiter=\"\\t\", header=None)\n",
        "y_labels = [\"Case_Based\", \"Genetic_Algorithms\", \"Neural_Networks\", \"Probabilistic_Methods\", \"Reinforcement_Learning\", \"Rule_Learning\", \"Theory\"]\n",
        "\n",
        "for i,label in enumerate(y_labels):\n",
        "    cora[1434][cora[1434]==label] = i"
      ],
      "metadata": {
        "colab": {
          "base_uri": "https://localhost:8080/"
        },
        "id": "n6L0ZmuSTKn-",
        "outputId": "ff1d7e95-6028-42b1-f6dd-2cc05511e729"
      },
      "execution_count": 3,
      "outputs": [
        {
          "output_type": "stream",
          "name": "stderr",
          "text": [
            "<ipython-input-3-4b8632f12a1b>:5: SettingWithCopyWarning: \n",
            "A value is trying to be set on a copy of a slice from a DataFrame\n",
            "\n",
            "See the caveats in the documentation: https://pandas.pydata.org/pandas-docs/stable/user_guide/indexing.html#returning-a-view-versus-a-copy\n",
            "  cora[1434][cora[1434]==label] = i\n"
          ]
        }
      ]
    },
    {
      "cell_type": "code",
      "source": [
        "X = np.asarray(cora.iloc[:,1:-1]).astype('float32')\n",
        "y = np.asarray(cora.iloc[:,-1]).astype('float32')"
      ],
      "metadata": {
        "id": "e09lEKLQTR17"
      },
      "execution_count": 4,
      "outputs": []
    },
    {
      "cell_type": "code",
      "source": [
        "# encode class values as integers\n",
        "encoder = LabelEncoder()\n",
        "encoder.fit(y)\n",
        "encoded_Y = encoder.transform(y)"
      ],
      "metadata": {
        "id": "lv4l4hT0T2WT"
      },
      "execution_count": 5,
      "outputs": []
    },
    {
      "cell_type": "code",
      "source": [
        "list_models = [RF(), LDA(), QDA(), XGB(), SVC(kernel=\"linear\"), SVC(kernel=\"rbf\"), KNN(), LR(), GNB(), MNB()]"
      ],
      "metadata": {
        "id": "mD_9pYjNT4Oe"
      },
      "execution_count": 6,
      "outputs": []
    },
    {
      "cell_type": "code",
      "source": [
        "list_models_name = [\"RF\", \"LDA\", \"QDA\", \"XGB\", \"SVM_Linear\", \"SVM_RBF\", \"KNN\", \"LR\", \"GNB\", \"MNB\"]"
      ],
      "metadata": {
        "id": "hN34a7BtxoQE"
      },
      "execution_count": 7,
      "outputs": []
    },
    {
      "cell_type": "code",
      "source": [
        "kFold = StratifiedKFold(n_splits=10)\n",
        "list_all_models_predictions = []\n",
        "total_model_scores = []\n",
        "for i,model in enumerate(list_models):\n",
        "  model_predictions = []\n",
        "  model_score = []\n",
        "  counter = 1\n",
        "  for train, test in kFold.split(X, encoded_Y):\n",
        "    print(\"   Fold \" + str(counter))\n",
        "    counter+=1\n",
        "    model.fit(X[train], encoded_Y[train])\n",
        "    model_predictions.append(model.predict(X[test]))\n",
        "    model_score.append([accuracy_score(encoded_Y[train],model.predict(X[train])), accuracy_score(encoded_Y[test],model.predict(X[test]))])\n",
        "\n",
        "  list_all_models_predictions.append(model_predictions)\n",
        "  total_model_scores.append(model_score)\n",
        "\n",
        "  print(\"Model \" + str(i+1) + \" Trained!\")"
      ],
      "metadata": {
        "colab": {
          "base_uri": "https://localhost:8080/"
        },
        "id": "y94DxoZtWCBP",
        "outputId": "068f3e4b-dd4b-473e-93ff-f918894a2b5d"
      },
      "execution_count": null,
      "outputs": [
        {
          "output_type": "stream",
          "name": "stdout",
          "text": [
            "   Fold 1\n",
            "   Fold 2\n",
            "   Fold 3\n",
            "   Fold 4\n",
            "   Fold 5\n",
            "   Fold 6\n",
            "   Fold 7\n",
            "   Fold 8\n",
            "   Fold 9\n",
            "   Fold 10\n",
            "Model 1 Trained!\n",
            "   Fold 1\n",
            "   Fold 2\n",
            "   Fold 3\n",
            "   Fold 4\n",
            "   Fold 5\n",
            "   Fold 6\n",
            "   Fold 7\n",
            "   Fold 8\n",
            "   Fold 9\n",
            "   Fold 10\n",
            "Model 2 Trained!\n",
            "   Fold 1\n"
          ]
        },
        {
          "output_type": "stream",
          "name": "stderr",
          "text": [
            "/usr/local/lib/python3.8/dist-packages/sklearn/discriminant_analysis.py:878: UserWarning: Variables are collinear\n",
            "  warnings.warn(\"Variables are collinear\")\n"
          ]
        },
        {
          "output_type": "stream",
          "name": "stdout",
          "text": [
            "   Fold 2\n"
          ]
        },
        {
          "output_type": "stream",
          "name": "stderr",
          "text": [
            "/usr/local/lib/python3.8/dist-packages/sklearn/discriminant_analysis.py:878: UserWarning: Variables are collinear\n",
            "  warnings.warn(\"Variables are collinear\")\n"
          ]
        },
        {
          "output_type": "stream",
          "name": "stdout",
          "text": [
            "   Fold 3\n"
          ]
        },
        {
          "output_type": "stream",
          "name": "stderr",
          "text": [
            "/usr/local/lib/python3.8/dist-packages/sklearn/discriminant_analysis.py:878: UserWarning: Variables are collinear\n",
            "  warnings.warn(\"Variables are collinear\")\n"
          ]
        },
        {
          "output_type": "stream",
          "name": "stdout",
          "text": [
            "   Fold 4\n"
          ]
        },
        {
          "output_type": "stream",
          "name": "stderr",
          "text": [
            "/usr/local/lib/python3.8/dist-packages/sklearn/discriminant_analysis.py:878: UserWarning: Variables are collinear\n",
            "  warnings.warn(\"Variables are collinear\")\n"
          ]
        },
        {
          "output_type": "stream",
          "name": "stdout",
          "text": [
            "   Fold 5\n"
          ]
        },
        {
          "output_type": "stream",
          "name": "stderr",
          "text": [
            "/usr/local/lib/python3.8/dist-packages/sklearn/discriminant_analysis.py:878: UserWarning: Variables are collinear\n",
            "  warnings.warn(\"Variables are collinear\")\n"
          ]
        },
        {
          "output_type": "stream",
          "name": "stdout",
          "text": [
            "   Fold 6\n"
          ]
        },
        {
          "output_type": "stream",
          "name": "stderr",
          "text": [
            "/usr/local/lib/python3.8/dist-packages/sklearn/discriminant_analysis.py:878: UserWarning: Variables are collinear\n",
            "  warnings.warn(\"Variables are collinear\")\n"
          ]
        },
        {
          "output_type": "stream",
          "name": "stdout",
          "text": [
            "   Fold 7\n"
          ]
        },
        {
          "output_type": "stream",
          "name": "stderr",
          "text": [
            "/usr/local/lib/python3.8/dist-packages/sklearn/discriminant_analysis.py:878: UserWarning: Variables are collinear\n",
            "  warnings.warn(\"Variables are collinear\")\n"
          ]
        },
        {
          "output_type": "stream",
          "name": "stdout",
          "text": [
            "   Fold 8\n"
          ]
        },
        {
          "output_type": "stream",
          "name": "stderr",
          "text": [
            "/usr/local/lib/python3.8/dist-packages/sklearn/discriminant_analysis.py:878: UserWarning: Variables are collinear\n",
            "  warnings.warn(\"Variables are collinear\")\n"
          ]
        },
        {
          "output_type": "stream",
          "name": "stdout",
          "text": [
            "   Fold 9\n"
          ]
        },
        {
          "output_type": "stream",
          "name": "stderr",
          "text": [
            "/usr/local/lib/python3.8/dist-packages/sklearn/discriminant_analysis.py:878: UserWarning: Variables are collinear\n",
            "  warnings.warn(\"Variables are collinear\")\n"
          ]
        },
        {
          "output_type": "stream",
          "name": "stdout",
          "text": [
            "   Fold 10\n"
          ]
        },
        {
          "output_type": "stream",
          "name": "stderr",
          "text": [
            "/usr/local/lib/python3.8/dist-packages/sklearn/discriminant_analysis.py:878: UserWarning: Variables are collinear\n",
            "  warnings.warn(\"Variables are collinear\")\n"
          ]
        },
        {
          "output_type": "stream",
          "name": "stdout",
          "text": [
            "Model 3 Trained!\n",
            "   Fold 1\n",
            "   Fold 2\n",
            "   Fold 3\n",
            "   Fold 4\n",
            "   Fold 5\n",
            "   Fold 6\n",
            "   Fold 7\n",
            "   Fold 8\n",
            "   Fold 9\n",
            "   Fold 10\n"
          ]
        }
      ]
    },
    {
      "cell_type": "code",
      "source": [
        "counter = 0\n",
        "for list_predictions in list_all_models_predictions:\n",
        "  final_predictions = []\n",
        "  for fold_prediction in list_predictions:\n",
        "    for item in fold_prediction:\n",
        "      final_predictions.append(y_labels[item])\n",
        "  list_ids = list(cora.iloc[:,0])\n",
        "  d = {'IDs': list_ids, 'Predictions': final_predictions}\n",
        "  df = pd.DataFrame(data=d)\n",
        "  df.to_csv(list_models_name[counter] + \"_final_predictions.tsv\", sep=\"\\t\")\n",
        "  counter+=1"
      ],
      "metadata": {
        "id": "SBE0aFCKsoQS"
      },
      "execution_count": null,
      "outputs": []
    },
    {
      "cell_type": "code",
      "source": [
        "counter = 0\n",
        "d = {'Model': [], 'Fold_1': [], 'Fold_2': [], 'Fold_3': [], 'Fold_4': [], 'Fold_5': [], 'Fold_6': [], 'Fold_7': [], 'Fold_8': [], 'Fold_9': [], 'Fold_10': [],'Average': []}\n",
        "df_test = pd.DataFrame(data=d)\n",
        "df_train = pd.DataFrame(data=d)\n",
        "for fold_scores in total_model_scores:\n",
        "  fold_val_score_list_test = [list_models_name[counter]]\n",
        "  fold_val_score_list_train = [list_models_name[counter]]\n",
        "  for fold_score in fold_scores:\n",
        "    fold_val_score_list_test.append(fold_score[1])\n",
        "    fold_val_score_list_train.append(fold_score[0])\n",
        "  fold_val_score_list_test.append(np.mean(np.array(fold_scores), axis=0)[1])\n",
        "  fold_val_score_list_train.append(np.mean(np.array(fold_scores), axis=0)[0])\n",
        "  # print(fold_val_score_list)\n",
        "  df_test.loc[len(df_test)] = fold_val_score_list_test\n",
        "  df_train.loc[len(df_train)] = fold_val_score_list_train\n",
        "  counter+=1"
      ],
      "metadata": {
        "id": "auoP3DB8wrvp"
      },
      "execution_count": null,
      "outputs": []
    },
    {
      "cell_type": "code",
      "source": [
        "df_test"
      ],
      "metadata": {
        "id": "tn9yjUMc6LHU"
      },
      "execution_count": null,
      "outputs": []
    },
    {
      "cell_type": "code",
      "source": [
        "df_train"
      ],
      "metadata": {
        "id": "ENEEC-gGERHr"
      },
      "execution_count": null,
      "outputs": []
    },
    {
      "cell_type": "code",
      "source": [
        "df_train.to_csv(\"ML_Train_ACC.tsv\", sep=\"\\t\")\n",
        "df_test.to_csv(\"ML_Test_ACC.tsv\", sep=\"\\t\")"
      ],
      "metadata": {
        "id": "qjr1pHXrx5zt"
      },
      "execution_count": null,
      "outputs": []
    },
    {
      "cell_type": "code",
      "source": [],
      "metadata": {
        "id": "gorjLAHO0gbE"
      },
      "execution_count": null,
      "outputs": []
    }
  ]
}