{
  "nbformat": 4,
  "nbformat_minor": 0,
  "metadata": {
    "colab": {
      "provenance": [],
      "include_colab_link": true
    },
    "kernelspec": {
      "name": "python3",
      "display_name": "Python 3"
    },
    "language_info": {
      "name": "python"
    },
    "gpuClass": "standard"
  },
  "cells": [
    {
      "cell_type": "markdown",
      "metadata": {
        "id": "view-in-github",
        "colab_type": "text"
      },
      "source": [
        "<a href=\"https://colab.research.google.com/github/splendidcomputer/cora_project/blob/main/Cora_Classification_ClassicML.ipynb\" target=\"_parent\"><img src=\"https://colab.research.google.com/assets/colab-badge.svg\" alt=\"Open In Colab\"/></a>"
      ]
    },
    {
      "cell_type": "markdown",
      "source": [
        "Clone all the repository including the dataset in Colab:"
      ],
      "metadata": {
        "id": "PSFjtEBh9LCA"
      }
    },
    {
      "cell_type": "code",
      "source": [
        "!git clone https://github.com/splendidcomputer/cora_project"
      ],
      "metadata": {
        "id": "CYQHCQ_ETHHi",
        "outputId": "9c902013-d1a7-48fb-ab8f-cb106d8eb519",
        "colab": {
          "base_uri": "https://localhost:8080/"
        }
      },
      "execution_count": 2,
      "outputs": [
        {
          "output_type": "stream",
          "name": "stdout",
          "text": [
            "Cloning into 'cora_project'...\n",
            "remote: Enumerating objects: 320, done.\u001b[K\n",
            "remote: Counting objects: 100% (230/230), done.\u001b[K\n",
            "remote: Compressing objects: 100% (156/156), done.\u001b[K\n",
            "remote: Total 320 (delta 148), reused 120 (delta 74), pack-reused 90\u001b[K\n",
            "Receiving objects: 100% (320/320), 516.61 KiB | 5.33 MiB/s, done.\n",
            "Resolving deltas: 100% (200/200), done.\n"
          ]
        }
      ]
    },
    {
      "cell_type": "markdown",
      "source": [
        "Import required libries:"
      ],
      "metadata": {
        "id": "uVDk5kdM9ewk"
      }
    },
    {
      "cell_type": "code",
      "execution_count": 3,
      "metadata": {
        "id": "ZRZfhfO1SdUa"
      },
      "outputs": [],
      "source": [
        "import pandas as pd\n",
        "import numpy as np\n",
        "\n",
        "from keras.utils import np_utils\n",
        "\n",
        "from sklearn.preprocessing import LabelEncoder\n",
        "from sklearn.model_selection import StratifiedKFold\n",
        "\n",
        "from sklearn.ensemble import RandomForestClassifier as RF\n",
        "from sklearn.discriminant_analysis import LinearDiscriminantAnalysis as LDA\n",
        "from sklearn.discriminant_analysis import QuadraticDiscriminantAnalysis as QDA\n",
        "from xgboost import XGBClassifier as XGB\n",
        "from sklearn.svm import SVC\n",
        "from sklearn.neighbors import KNeighborsClassifier as KNN\n",
        "from sklearn.linear_model import LogisticRegression as LR\n",
        "from sklearn.naive_bayes import GaussianNB as GNB\n",
        "from sklearn.naive_bayes import MultinomialNB as MNB\n",
        "\n",
        "from sklearn.model_selection import cross_val_score\n",
        "from sklearn.metrics import accuracy_score\n",
        "\n"
      ]
    },
    {
      "cell_type": "markdown",
      "source": [
        "Load data as data frames using pandas library.\n"
      ],
      "metadata": {
        "id": "w6mk9Pwe9vu7"
      }
    },
    {
      "cell_type": "code",
      "source": [
        "cora = pd.read_csv(\"./cora_project/cora.content\", delimiter=\"\\t\", header=None)\n",
        "y_labels = [\"Case_Based\", \"Genetic_Algorithms\", \"Neural_Networks\", \"Probabilistic_Methods\", \"Reinforcement_Learning\", \"Rule_Learning\", \"Theory\"]\n",
        "\n",
        "for i,label in enumerate(y_labels):\n",
        "    cora[1434][cora[1434]==label] = i"
      ],
      "metadata": {
        "colab": {
          "base_uri": "https://localhost:8080/"
        },
        "id": "n6L0ZmuSTKn-",
        "outputId": "1885b5e3-32bd-48dd-cf04-bbd62efdb756"
      },
      "execution_count": 4,
      "outputs": [
        {
          "output_type": "stream",
          "name": "stderr",
          "text": [
            "<ipython-input-4-4b8632f12a1b>:5: SettingWithCopyWarning: \n",
            "A value is trying to be set on a copy of a slice from a DataFrame\n",
            "\n",
            "See the caveats in the documentation: https://pandas.pydata.org/pandas-docs/stable/user_guide/indexing.html#returning-a-view-versus-a-copy\n",
            "  cora[1434][cora[1434]==label] = i\n"
          ]
        }
      ]
    },
    {
      "cell_type": "markdown",
      "source": [
        "Select input data from dataset and convert it to numpy array:"
      ],
      "metadata": {
        "id": "_SxCrKzs-Vk2"
      }
    },
    {
      "cell_type": "code",
      "source": [
        "X = np.asarray(cora.iloc[:,1:-1]).astype('float32')\n",
        "y = np.asarray(cora.iloc[:,-1]).astype('float32')"
      ],
      "metadata": {
        "id": "e09lEKLQTR17"
      },
      "execution_count": 5,
      "outputs": []
    },
    {
      "cell_type": "markdown",
      "source": [
        "Encode class values as integers:"
      ],
      "metadata": {
        "id": "6Hx7NXyK_QRL"
      }
    },
    {
      "cell_type": "code",
      "source": [
        "\n",
        "encoder = LabelEncoder()\n",
        "encoder.fit(y)\n",
        "encoded_Y = encoder.transform(y)"
      ],
      "metadata": {
        "id": "lv4l4hT0T2WT"
      },
      "execution_count": 6,
      "outputs": []
    },
    {
      "cell_type": "markdown",
      "source": [
        "Create a list of all the machine learning models:"
      ],
      "metadata": {
        "id": "ZfPJbADJ_az2"
      }
    },
    {
      "cell_type": "code",
      "source": [
        "list_models = [RF(), LDA(), QDA(), XGB(), SVC(kernel=\"linear\"), SVC(kernel=\"rbf\"), KNN(), LR(), GNB(), MNB()]\n",
        "list_models_name = [\"RF\", \"LDA\", \"QDA\", \"XGB\", \"SVM_Linear\", \"SVM_RBF\", \"KNN\", \"LR\", \"GNB\", \"MNB\"]"
      ],
      "metadata": {
        "id": "mD_9pYjNT4Oe"
      },
      "execution_count": 7,
      "outputs": []
    },
    {
      "cell_type": "markdown",
      "source": [
        "Train all modeles using 10-fold cross validation:"
      ],
      "metadata": {
        "id": "w4Yjc6E0_o0B"
      }
    },
    {
      "cell_type": "code",
      "source": [
        "kFold = StratifiedKFold(n_splits=10)\n",
        "list_all_models_predictions = []\n",
        "total_model_scores = []\n",
        "for i,model in enumerate(list_models):\n",
        "  model_predictions = []\n",
        "  model_score = []\n",
        "  counter = 1\n",
        "  for train, test in kFold.split(X, encoded_Y):\n",
        "    print(\"   Fold \" + str(counter))\n",
        "    counter+=1\n",
        "    model.fit(X[train], encoded_Y[train])\n",
        "    model_predictions.append(model.predict(X[test]))\n",
        "    model_score.append([accuracy_score(encoded_Y[train],model.predict(X[train])), accuracy_score(encoded_Y[test],model.predict(X[test]))])\n",
        "\n",
        "  list_all_models_predictions.append(model_predictions)\n",
        "  total_model_scores.append(model_score)\n",
        "\n",
        "  print(\"Model \" + str(i+1) + \" Trained!\")"
      ],
      "metadata": {
        "colab": {
          "base_uri": "https://localhost:8080/"
        },
        "id": "y94DxoZtWCBP",
        "outputId": "a73440ac-2671-4afb-c49b-8ed0ff174a6d"
      },
      "execution_count": 8,
      "outputs": [
        {
          "output_type": "stream",
          "name": "stdout",
          "text": [
            "   Fold 1\n",
            "   Fold 2\n",
            "   Fold 3\n",
            "   Fold 4\n",
            "   Fold 5\n",
            "   Fold 6\n",
            "   Fold 7\n",
            "   Fold 8\n",
            "   Fold 9\n",
            "   Fold 10\n",
            "Model 1 Trained!\n",
            "   Fold 1\n",
            "   Fold 2\n",
            "   Fold 3\n",
            "   Fold 4\n",
            "   Fold 5\n",
            "   Fold 6\n",
            "   Fold 7\n",
            "   Fold 8\n",
            "   Fold 9\n",
            "   Fold 10\n",
            "Model 2 Trained!\n",
            "   Fold 1\n"
          ]
        },
        {
          "output_type": "stream",
          "name": "stderr",
          "text": [
            "/usr/local/lib/python3.8/dist-packages/sklearn/discriminant_analysis.py:878: UserWarning: Variables are collinear\n",
            "  warnings.warn(\"Variables are collinear\")\n"
          ]
        },
        {
          "output_type": "stream",
          "name": "stdout",
          "text": [
            "   Fold 2\n"
          ]
        },
        {
          "output_type": "stream",
          "name": "stderr",
          "text": [
            "/usr/local/lib/python3.8/dist-packages/sklearn/discriminant_analysis.py:878: UserWarning: Variables are collinear\n",
            "  warnings.warn(\"Variables are collinear\")\n"
          ]
        },
        {
          "output_type": "stream",
          "name": "stdout",
          "text": [
            "   Fold 3\n"
          ]
        },
        {
          "output_type": "stream",
          "name": "stderr",
          "text": [
            "/usr/local/lib/python3.8/dist-packages/sklearn/discriminant_analysis.py:878: UserWarning: Variables are collinear\n",
            "  warnings.warn(\"Variables are collinear\")\n"
          ]
        },
        {
          "output_type": "stream",
          "name": "stdout",
          "text": [
            "   Fold 4\n"
          ]
        },
        {
          "output_type": "stream",
          "name": "stderr",
          "text": [
            "/usr/local/lib/python3.8/dist-packages/sklearn/discriminant_analysis.py:878: UserWarning: Variables are collinear\n",
            "  warnings.warn(\"Variables are collinear\")\n"
          ]
        },
        {
          "output_type": "stream",
          "name": "stdout",
          "text": [
            "   Fold 5\n"
          ]
        },
        {
          "output_type": "stream",
          "name": "stderr",
          "text": [
            "/usr/local/lib/python3.8/dist-packages/sklearn/discriminant_analysis.py:878: UserWarning: Variables are collinear\n",
            "  warnings.warn(\"Variables are collinear\")\n"
          ]
        },
        {
          "output_type": "stream",
          "name": "stdout",
          "text": [
            "   Fold 6\n"
          ]
        },
        {
          "output_type": "stream",
          "name": "stderr",
          "text": [
            "/usr/local/lib/python3.8/dist-packages/sklearn/discriminant_analysis.py:878: UserWarning: Variables are collinear\n",
            "  warnings.warn(\"Variables are collinear\")\n"
          ]
        },
        {
          "output_type": "stream",
          "name": "stdout",
          "text": [
            "   Fold 7\n"
          ]
        },
        {
          "output_type": "stream",
          "name": "stderr",
          "text": [
            "/usr/local/lib/python3.8/dist-packages/sklearn/discriminant_analysis.py:878: UserWarning: Variables are collinear\n",
            "  warnings.warn(\"Variables are collinear\")\n"
          ]
        },
        {
          "output_type": "stream",
          "name": "stdout",
          "text": [
            "   Fold 8\n"
          ]
        },
        {
          "output_type": "stream",
          "name": "stderr",
          "text": [
            "/usr/local/lib/python3.8/dist-packages/sklearn/discriminant_analysis.py:878: UserWarning: Variables are collinear\n",
            "  warnings.warn(\"Variables are collinear\")\n"
          ]
        },
        {
          "output_type": "stream",
          "name": "stdout",
          "text": [
            "   Fold 9\n"
          ]
        },
        {
          "output_type": "stream",
          "name": "stderr",
          "text": [
            "/usr/local/lib/python3.8/dist-packages/sklearn/discriminant_analysis.py:878: UserWarning: Variables are collinear\n",
            "  warnings.warn(\"Variables are collinear\")\n"
          ]
        },
        {
          "output_type": "stream",
          "name": "stdout",
          "text": [
            "   Fold 10\n"
          ]
        },
        {
          "output_type": "stream",
          "name": "stderr",
          "text": [
            "/usr/local/lib/python3.8/dist-packages/sklearn/discriminant_analysis.py:878: UserWarning: Variables are collinear\n",
            "  warnings.warn(\"Variables are collinear\")\n"
          ]
        },
        {
          "output_type": "stream",
          "name": "stdout",
          "text": [
            "Model 3 Trained!\n",
            "   Fold 1\n",
            "   Fold 2\n",
            "   Fold 3\n",
            "   Fold 4\n",
            "   Fold 5\n",
            "   Fold 6\n",
            "   Fold 7\n",
            "   Fold 8\n",
            "   Fold 9\n",
            "   Fold 10\n",
            "Model 4 Trained!\n",
            "   Fold 1\n",
            "   Fold 2\n",
            "   Fold 3\n",
            "   Fold 4\n",
            "   Fold 5\n",
            "   Fold 6\n",
            "   Fold 7\n",
            "   Fold 8\n",
            "   Fold 9\n",
            "   Fold 10\n",
            "Model 5 Trained!\n",
            "   Fold 1\n",
            "   Fold 2\n",
            "   Fold 3\n",
            "   Fold 4\n",
            "   Fold 5\n",
            "   Fold 6\n",
            "   Fold 7\n",
            "   Fold 8\n",
            "   Fold 9\n",
            "   Fold 10\n",
            "Model 6 Trained!\n",
            "   Fold 1\n",
            "   Fold 2\n",
            "   Fold 3\n",
            "   Fold 4\n",
            "   Fold 5\n",
            "   Fold 6\n",
            "   Fold 7\n",
            "   Fold 8\n",
            "   Fold 9\n",
            "   Fold 10\n",
            "Model 7 Trained!\n",
            "   Fold 1\n",
            "   Fold 2\n",
            "   Fold 3\n",
            "   Fold 4\n",
            "   Fold 5\n",
            "   Fold 6\n",
            "   Fold 7\n",
            "   Fold 8\n",
            "   Fold 9\n",
            "   Fold 10\n",
            "Model 8 Trained!\n",
            "   Fold 1\n",
            "   Fold 2\n",
            "   Fold 3\n",
            "   Fold 4\n",
            "   Fold 5\n",
            "   Fold 6\n",
            "   Fold 7\n",
            "   Fold 8\n",
            "   Fold 9\n",
            "   Fold 10\n",
            "Model 9 Trained!\n",
            "   Fold 1\n",
            "   Fold 2\n",
            "   Fold 3\n",
            "   Fold 4\n",
            "   Fold 5\n",
            "   Fold 6\n",
            "   Fold 7\n",
            "   Fold 8\n",
            "   Fold 9\n",
            "   Fold 10\n",
            "Model 10 Trained!\n"
          ]
        }
      ]
    },
    {
      "cell_type": "markdown",
      "source": [
        "Create tables for all models predictions after training:"
      ],
      "metadata": {
        "id": "sSTL0kutBdf6"
      }
    },
    {
      "cell_type": "code",
      "source": [
        "counter = 0\n",
        "for list_predictions in list_all_models_predictions:\n",
        "  final_predictions = []\n",
        "  for fold_prediction in list_predictions:\n",
        "    for item in fold_prediction:\n",
        "      final_predictions.append(y_labels[item])\n",
        "  list_ids = list(cora.iloc[:,0])\n",
        "  d = {'IDs': list_ids, 'Predictions': final_predictions}\n",
        "  df = pd.DataFrame(data=d)\n",
        "  df.to_csv(list_models_name[counter] + \"_final_predictions.tsv\", sep=\"\\t\")\n",
        "  counter+=1"
      ],
      "metadata": {
        "id": "SBE0aFCKsoQS"
      },
      "execution_count": 9,
      "outputs": []
    },
    {
      "cell_type": "markdown",
      "source": [
        "Create tables for all models accuracies after training:"
      ],
      "metadata": {
        "id": "8dVAkGYIBwfr"
      }
    },
    {
      "cell_type": "code",
      "source": [
        "counter = 0\n",
        "d = {'Model': [], 'Fold_1': [], 'Fold_2': [], 'Fold_3': [], 'Fold_4': [], 'Fold_5': [], 'Fold_6': [], 'Fold_7': [], 'Fold_8': [], 'Fold_9': [], 'Fold_10': [],'Average': []}\n",
        "df_test = pd.DataFrame(data=d)\n",
        "df_train = pd.DataFrame(data=d)\n",
        "for fold_scores in total_model_scores:\n",
        "  fold_val_score_list_test = [list_models_name[counter]]\n",
        "  fold_val_score_list_train = [list_models_name[counter]]\n",
        "  for fold_score in fold_scores:\n",
        "    fold_val_score_list_test.append(fold_score[1])\n",
        "    fold_val_score_list_train.append(fold_score[0])\n",
        "  fold_val_score_list_test.append(np.mean(np.array(fold_scores), axis=0)[1])\n",
        "  fold_val_score_list_train.append(np.mean(np.array(fold_scores), axis=0)[0])\n",
        "  # print(fold_val_score_list)\n",
        "  df_test.loc[len(df_test)] = fold_val_score_list_test\n",
        "  df_train.loc[len(df_train)] = fold_val_score_list_train\n",
        "  counter+=1"
      ],
      "metadata": {
        "id": "auoP3DB8wrvp"
      },
      "execution_count": 10,
      "outputs": []
    },
    {
      "cell_type": "markdown",
      "source": [
        "Display test results:"
      ],
      "metadata": {
        "id": "SaQ-5udBFgLB"
      }
    },
    {
      "cell_type": "code",
      "source": [
        "df_test"
      ],
      "metadata": {
        "id": "tn9yjUMc6LHU",
        "colab": {
          "base_uri": "https://localhost:8080/",
          "height": 363
        },
        "outputId": "24bea6ff-0414-4a67-d186-f06fff3f3381"
      },
      "execution_count": 11,
      "outputs": [
        {
          "output_type": "execute_result",
          "data": {
            "text/plain": [
              "        Model    Fold_1    Fold_2    Fold_3    Fold_4    Fold_5    Fold_6  \\\n",
              "0          RF  0.760148  0.734317  0.778598  0.752768  0.749077  0.778598   \n",
              "1         LDA  0.642066  0.638376  0.664207  0.634686  0.623616  0.656827   \n",
              "2         QDA  0.107011  0.132841  0.129151  0.092251  0.129151  0.129151   \n",
              "3         XGB  0.719557  0.690037  0.767528  0.752768  0.715867  0.734317   \n",
              "4  SVM_Linear  0.704797  0.719557  0.749077  0.708487  0.708487  0.734317   \n",
              "5     SVM_RBF  0.756458  0.730627  0.789668  0.749077  0.738007  0.756458   \n",
              "6         KNN  0.464945  0.464945  0.476015  0.479705  0.439114  0.479705   \n",
              "7          LR  0.756458  0.782288  0.774908  0.774908  0.778598  0.771218   \n",
              "8         GNB  0.494465  0.476015  0.535055  0.509225  0.476015  0.487085   \n",
              "9         MNB  0.756458  0.760148  0.774908  0.793358  0.767528  0.771218   \n",
              "\n",
              "     Fold_7    Fold_8    Fold_9   Fold_10   Average  \n",
              "0  0.808118  0.745387  0.759259  0.718519  0.758479  \n",
              "1  0.642066  0.645756  0.659259  0.596296  0.640316  \n",
              "2  0.140221  0.129151  0.100000  0.159259  0.124819  \n",
              "3  0.756458  0.712177  0.792593  0.692593  0.733389  \n",
              "4  0.730627  0.715867  0.762963  0.725926  0.726011  \n",
              "5  0.771218  0.752768  0.803704  0.711111  0.755910  \n",
              "6  0.431734  0.472325  0.477778  0.407407  0.459367  \n",
              "7  0.778598  0.734317  0.796296  0.766667  0.771425  \n",
              "8  0.535055  0.501845  0.488889  0.455556  0.495920  \n",
              "9  0.789668  0.789668  0.803704  0.740741  0.774740  "
            ],
            "text/html": [
              "\n",
              "  <div id=\"df-5e563320-ba01-4bd6-a09c-f33bda022c6c\">\n",
              "    <div class=\"colab-df-container\">\n",
              "      <div>\n",
              "<style scoped>\n",
              "    .dataframe tbody tr th:only-of-type {\n",
              "        vertical-align: middle;\n",
              "    }\n",
              "\n",
              "    .dataframe tbody tr th {\n",
              "        vertical-align: top;\n",
              "    }\n",
              "\n",
              "    .dataframe thead th {\n",
              "        text-align: right;\n",
              "    }\n",
              "</style>\n",
              "<table border=\"1\" class=\"dataframe\">\n",
              "  <thead>\n",
              "    <tr style=\"text-align: right;\">\n",
              "      <th></th>\n",
              "      <th>Model</th>\n",
              "      <th>Fold_1</th>\n",
              "      <th>Fold_2</th>\n",
              "      <th>Fold_3</th>\n",
              "      <th>Fold_4</th>\n",
              "      <th>Fold_5</th>\n",
              "      <th>Fold_6</th>\n",
              "      <th>Fold_7</th>\n",
              "      <th>Fold_8</th>\n",
              "      <th>Fold_9</th>\n",
              "      <th>Fold_10</th>\n",
              "      <th>Average</th>\n",
              "    </tr>\n",
              "  </thead>\n",
              "  <tbody>\n",
              "    <tr>\n",
              "      <th>0</th>\n",
              "      <td>RF</td>\n",
              "      <td>0.760148</td>\n",
              "      <td>0.734317</td>\n",
              "      <td>0.778598</td>\n",
              "      <td>0.752768</td>\n",
              "      <td>0.749077</td>\n",
              "      <td>0.778598</td>\n",
              "      <td>0.808118</td>\n",
              "      <td>0.745387</td>\n",
              "      <td>0.759259</td>\n",
              "      <td>0.718519</td>\n",
              "      <td>0.758479</td>\n",
              "    </tr>\n",
              "    <tr>\n",
              "      <th>1</th>\n",
              "      <td>LDA</td>\n",
              "      <td>0.642066</td>\n",
              "      <td>0.638376</td>\n",
              "      <td>0.664207</td>\n",
              "      <td>0.634686</td>\n",
              "      <td>0.623616</td>\n",
              "      <td>0.656827</td>\n",
              "      <td>0.642066</td>\n",
              "      <td>0.645756</td>\n",
              "      <td>0.659259</td>\n",
              "      <td>0.596296</td>\n",
              "      <td>0.640316</td>\n",
              "    </tr>\n",
              "    <tr>\n",
              "      <th>2</th>\n",
              "      <td>QDA</td>\n",
              "      <td>0.107011</td>\n",
              "      <td>0.132841</td>\n",
              "      <td>0.129151</td>\n",
              "      <td>0.092251</td>\n",
              "      <td>0.129151</td>\n",
              "      <td>0.129151</td>\n",
              "      <td>0.140221</td>\n",
              "      <td>0.129151</td>\n",
              "      <td>0.100000</td>\n",
              "      <td>0.159259</td>\n",
              "      <td>0.124819</td>\n",
              "    </tr>\n",
              "    <tr>\n",
              "      <th>3</th>\n",
              "      <td>XGB</td>\n",
              "      <td>0.719557</td>\n",
              "      <td>0.690037</td>\n",
              "      <td>0.767528</td>\n",
              "      <td>0.752768</td>\n",
              "      <td>0.715867</td>\n",
              "      <td>0.734317</td>\n",
              "      <td>0.756458</td>\n",
              "      <td>0.712177</td>\n",
              "      <td>0.792593</td>\n",
              "      <td>0.692593</td>\n",
              "      <td>0.733389</td>\n",
              "    </tr>\n",
              "    <tr>\n",
              "      <th>4</th>\n",
              "      <td>SVM_Linear</td>\n",
              "      <td>0.704797</td>\n",
              "      <td>0.719557</td>\n",
              "      <td>0.749077</td>\n",
              "      <td>0.708487</td>\n",
              "      <td>0.708487</td>\n",
              "      <td>0.734317</td>\n",
              "      <td>0.730627</td>\n",
              "      <td>0.715867</td>\n",
              "      <td>0.762963</td>\n",
              "      <td>0.725926</td>\n",
              "      <td>0.726011</td>\n",
              "    </tr>\n",
              "    <tr>\n",
              "      <th>5</th>\n",
              "      <td>SVM_RBF</td>\n",
              "      <td>0.756458</td>\n",
              "      <td>0.730627</td>\n",
              "      <td>0.789668</td>\n",
              "      <td>0.749077</td>\n",
              "      <td>0.738007</td>\n",
              "      <td>0.756458</td>\n",
              "      <td>0.771218</td>\n",
              "      <td>0.752768</td>\n",
              "      <td>0.803704</td>\n",
              "      <td>0.711111</td>\n",
              "      <td>0.755910</td>\n",
              "    </tr>\n",
              "    <tr>\n",
              "      <th>6</th>\n",
              "      <td>KNN</td>\n",
              "      <td>0.464945</td>\n",
              "      <td>0.464945</td>\n",
              "      <td>0.476015</td>\n",
              "      <td>0.479705</td>\n",
              "      <td>0.439114</td>\n",
              "      <td>0.479705</td>\n",
              "      <td>0.431734</td>\n",
              "      <td>0.472325</td>\n",
              "      <td>0.477778</td>\n",
              "      <td>0.407407</td>\n",
              "      <td>0.459367</td>\n",
              "    </tr>\n",
              "    <tr>\n",
              "      <th>7</th>\n",
              "      <td>LR</td>\n",
              "      <td>0.756458</td>\n",
              "      <td>0.782288</td>\n",
              "      <td>0.774908</td>\n",
              "      <td>0.774908</td>\n",
              "      <td>0.778598</td>\n",
              "      <td>0.771218</td>\n",
              "      <td>0.778598</td>\n",
              "      <td>0.734317</td>\n",
              "      <td>0.796296</td>\n",
              "      <td>0.766667</td>\n",
              "      <td>0.771425</td>\n",
              "    </tr>\n",
              "    <tr>\n",
              "      <th>8</th>\n",
              "      <td>GNB</td>\n",
              "      <td>0.494465</td>\n",
              "      <td>0.476015</td>\n",
              "      <td>0.535055</td>\n",
              "      <td>0.509225</td>\n",
              "      <td>0.476015</td>\n",
              "      <td>0.487085</td>\n",
              "      <td>0.535055</td>\n",
              "      <td>0.501845</td>\n",
              "      <td>0.488889</td>\n",
              "      <td>0.455556</td>\n",
              "      <td>0.495920</td>\n",
              "    </tr>\n",
              "    <tr>\n",
              "      <th>9</th>\n",
              "      <td>MNB</td>\n",
              "      <td>0.756458</td>\n",
              "      <td>0.760148</td>\n",
              "      <td>0.774908</td>\n",
              "      <td>0.793358</td>\n",
              "      <td>0.767528</td>\n",
              "      <td>0.771218</td>\n",
              "      <td>0.789668</td>\n",
              "      <td>0.789668</td>\n",
              "      <td>0.803704</td>\n",
              "      <td>0.740741</td>\n",
              "      <td>0.774740</td>\n",
              "    </tr>\n",
              "  </tbody>\n",
              "</table>\n",
              "</div>\n",
              "      <button class=\"colab-df-convert\" onclick=\"convertToInteractive('df-5e563320-ba01-4bd6-a09c-f33bda022c6c')\"\n",
              "              title=\"Convert this dataframe to an interactive table.\"\n",
              "              style=\"display:none;\">\n",
              "        \n",
              "  <svg xmlns=\"http://www.w3.org/2000/svg\" height=\"24px\"viewBox=\"0 0 24 24\"\n",
              "       width=\"24px\">\n",
              "    <path d=\"M0 0h24v24H0V0z\" fill=\"none\"/>\n",
              "    <path d=\"M18.56 5.44l.94 2.06.94-2.06 2.06-.94-2.06-.94-.94-2.06-.94 2.06-2.06.94zm-11 1L8.5 8.5l.94-2.06 2.06-.94-2.06-.94L8.5 2.5l-.94 2.06-2.06.94zm10 10l.94 2.06.94-2.06 2.06-.94-2.06-.94-.94-2.06-.94 2.06-2.06.94z\"/><path d=\"M17.41 7.96l-1.37-1.37c-.4-.4-.92-.59-1.43-.59-.52 0-1.04.2-1.43.59L10.3 9.45l-7.72 7.72c-.78.78-.78 2.05 0 2.83L4 21.41c.39.39.9.59 1.41.59.51 0 1.02-.2 1.41-.59l7.78-7.78 2.81-2.81c.8-.78.8-2.07 0-2.86zM5.41 20L4 18.59l7.72-7.72 1.47 1.35L5.41 20z\"/>\n",
              "  </svg>\n",
              "      </button>\n",
              "      \n",
              "  <style>\n",
              "    .colab-df-container {\n",
              "      display:flex;\n",
              "      flex-wrap:wrap;\n",
              "      gap: 12px;\n",
              "    }\n",
              "\n",
              "    .colab-df-convert {\n",
              "      background-color: #E8F0FE;\n",
              "      border: none;\n",
              "      border-radius: 50%;\n",
              "      cursor: pointer;\n",
              "      display: none;\n",
              "      fill: #1967D2;\n",
              "      height: 32px;\n",
              "      padding: 0 0 0 0;\n",
              "      width: 32px;\n",
              "    }\n",
              "\n",
              "    .colab-df-convert:hover {\n",
              "      background-color: #E2EBFA;\n",
              "      box-shadow: 0px 1px 2px rgba(60, 64, 67, 0.3), 0px 1px 3px 1px rgba(60, 64, 67, 0.15);\n",
              "      fill: #174EA6;\n",
              "    }\n",
              "\n",
              "    [theme=dark] .colab-df-convert {\n",
              "      background-color: #3B4455;\n",
              "      fill: #D2E3FC;\n",
              "    }\n",
              "\n",
              "    [theme=dark] .colab-df-convert:hover {\n",
              "      background-color: #434B5C;\n",
              "      box-shadow: 0px 1px 3px 1px rgba(0, 0, 0, 0.15);\n",
              "      filter: drop-shadow(0px 1px 2px rgba(0, 0, 0, 0.3));\n",
              "      fill: #FFFFFF;\n",
              "    }\n",
              "  </style>\n",
              "\n",
              "      <script>\n",
              "        const buttonEl =\n",
              "          document.querySelector('#df-5e563320-ba01-4bd6-a09c-f33bda022c6c button.colab-df-convert');\n",
              "        buttonEl.style.display =\n",
              "          google.colab.kernel.accessAllowed ? 'block' : 'none';\n",
              "\n",
              "        async function convertToInteractive(key) {\n",
              "          const element = document.querySelector('#df-5e563320-ba01-4bd6-a09c-f33bda022c6c');\n",
              "          const dataTable =\n",
              "            await google.colab.kernel.invokeFunction('convertToInteractive',\n",
              "                                                     [key], {});\n",
              "          if (!dataTable) return;\n",
              "\n",
              "          const docLinkHtml = 'Like what you see? Visit the ' +\n",
              "            '<a target=\"_blank\" href=https://colab.research.google.com/notebooks/data_table.ipynb>data table notebook</a>'\n",
              "            + ' to learn more about interactive tables.';\n",
              "          element.innerHTML = '';\n",
              "          dataTable['output_type'] = 'display_data';\n",
              "          await google.colab.output.renderOutput(dataTable, element);\n",
              "          const docLink = document.createElement('div');\n",
              "          docLink.innerHTML = docLinkHtml;\n",
              "          element.appendChild(docLink);\n",
              "        }\n",
              "      </script>\n",
              "    </div>\n",
              "  </div>\n",
              "  "
            ]
          },
          "metadata": {},
          "execution_count": 11
        }
      ]
    },
    {
      "cell_type": "markdown",
      "source": [
        "Display train results:"
      ],
      "metadata": {
        "id": "zPnAvYqZFknk"
      }
    },
    {
      "cell_type": "code",
      "source": [
        "df_train"
      ],
      "metadata": {
        "id": "ENEEC-gGERHr",
        "colab": {
          "base_uri": "https://localhost:8080/",
          "height": 363
        },
        "outputId": "b291d76c-f151-477e-c92e-a06f9c9a14dd"
      },
      "execution_count": 12,
      "outputs": [
        {
          "output_type": "execute_result",
          "data": {
            "text/plain": [
              "        Model    Fold_1    Fold_2    Fold_3    Fold_4    Fold_5    Fold_6  \\\n",
              "0          RF  1.000000  1.000000  1.000000  1.000000  1.000000  1.000000   \n",
              "1         LDA  0.979893  0.981535  0.979073  0.981124  0.981945  0.977842   \n",
              "2         QDA  0.258104  0.162085  0.151005  0.220763  0.162495  0.149364   \n",
              "3         XGB  0.832581  0.835453  0.828888  0.826836  0.836274  0.823143   \n",
              "4  SVM_Linear  0.997128  0.997948  0.997948  0.997538  0.996717  0.996717   \n",
              "5     SVM_RBF  0.959787  0.959376  0.958966  0.956094  0.955273  0.952811   \n",
              "6         KNN  0.679114  0.712762  0.659417  0.710300  0.689372  0.683627   \n",
              "7          LR  0.988510  0.989331  0.990152  0.989741  0.988921  0.986048   \n",
              "8         GNB  0.769799  0.775133  0.772261  0.784982  0.793188  0.766516   \n",
              "9         MNB  0.881822  0.882232  0.882643  0.887156  0.882232  0.884284   \n",
              "\n",
              "     Fold_7    Fold_8    Fold_9   Fold_10   Average  \n",
              "0  1.000000  1.000000  1.000000  1.000000  1.000000  \n",
              "1  0.979073  0.981535  0.979081  0.982773  0.980387  \n",
              "2  0.295856  0.158802  0.231747  0.299016  0.208924  \n",
              "3  0.829298  0.829298  0.825677  0.837572  0.830502  \n",
              "4  0.997538  0.998359  0.997129  0.997949  0.997497  \n",
              "5  0.956504  0.958145  0.958983  0.958983  0.957492  \n",
              "6  0.688141  0.697579  0.693191  0.687039  0.690054  \n",
              "7  0.987279  0.990152  0.988925  0.988925  0.988799  \n",
              "8  0.775133  0.774313  0.779327  0.778507  0.776916  \n",
              "9  0.880591  0.883874  0.877769  0.885972  0.882857  "
            ],
            "text/html": [
              "\n",
              "  <div id=\"df-c085715b-0517-42aa-8da4-a19bf82ddf2f\">\n",
              "    <div class=\"colab-df-container\">\n",
              "      <div>\n",
              "<style scoped>\n",
              "    .dataframe tbody tr th:only-of-type {\n",
              "        vertical-align: middle;\n",
              "    }\n",
              "\n",
              "    .dataframe tbody tr th {\n",
              "        vertical-align: top;\n",
              "    }\n",
              "\n",
              "    .dataframe thead th {\n",
              "        text-align: right;\n",
              "    }\n",
              "</style>\n",
              "<table border=\"1\" class=\"dataframe\">\n",
              "  <thead>\n",
              "    <tr style=\"text-align: right;\">\n",
              "      <th></th>\n",
              "      <th>Model</th>\n",
              "      <th>Fold_1</th>\n",
              "      <th>Fold_2</th>\n",
              "      <th>Fold_3</th>\n",
              "      <th>Fold_4</th>\n",
              "      <th>Fold_5</th>\n",
              "      <th>Fold_6</th>\n",
              "      <th>Fold_7</th>\n",
              "      <th>Fold_8</th>\n",
              "      <th>Fold_9</th>\n",
              "      <th>Fold_10</th>\n",
              "      <th>Average</th>\n",
              "    </tr>\n",
              "  </thead>\n",
              "  <tbody>\n",
              "    <tr>\n",
              "      <th>0</th>\n",
              "      <td>RF</td>\n",
              "      <td>1.000000</td>\n",
              "      <td>1.000000</td>\n",
              "      <td>1.000000</td>\n",
              "      <td>1.000000</td>\n",
              "      <td>1.000000</td>\n",
              "      <td>1.000000</td>\n",
              "      <td>1.000000</td>\n",
              "      <td>1.000000</td>\n",
              "      <td>1.000000</td>\n",
              "      <td>1.000000</td>\n",
              "      <td>1.000000</td>\n",
              "    </tr>\n",
              "    <tr>\n",
              "      <th>1</th>\n",
              "      <td>LDA</td>\n",
              "      <td>0.979893</td>\n",
              "      <td>0.981535</td>\n",
              "      <td>0.979073</td>\n",
              "      <td>0.981124</td>\n",
              "      <td>0.981945</td>\n",
              "      <td>0.977842</td>\n",
              "      <td>0.979073</td>\n",
              "      <td>0.981535</td>\n",
              "      <td>0.979081</td>\n",
              "      <td>0.982773</td>\n",
              "      <td>0.980387</td>\n",
              "    </tr>\n",
              "    <tr>\n",
              "      <th>2</th>\n",
              "      <td>QDA</td>\n",
              "      <td>0.258104</td>\n",
              "      <td>0.162085</td>\n",
              "      <td>0.151005</td>\n",
              "      <td>0.220763</td>\n",
              "      <td>0.162495</td>\n",
              "      <td>0.149364</td>\n",
              "      <td>0.295856</td>\n",
              "      <td>0.158802</td>\n",
              "      <td>0.231747</td>\n",
              "      <td>0.299016</td>\n",
              "      <td>0.208924</td>\n",
              "    </tr>\n",
              "    <tr>\n",
              "      <th>3</th>\n",
              "      <td>XGB</td>\n",
              "      <td>0.832581</td>\n",
              "      <td>0.835453</td>\n",
              "      <td>0.828888</td>\n",
              "      <td>0.826836</td>\n",
              "      <td>0.836274</td>\n",
              "      <td>0.823143</td>\n",
              "      <td>0.829298</td>\n",
              "      <td>0.829298</td>\n",
              "      <td>0.825677</td>\n",
              "      <td>0.837572</td>\n",
              "      <td>0.830502</td>\n",
              "    </tr>\n",
              "    <tr>\n",
              "      <th>4</th>\n",
              "      <td>SVM_Linear</td>\n",
              "      <td>0.997128</td>\n",
              "      <td>0.997948</td>\n",
              "      <td>0.997948</td>\n",
              "      <td>0.997538</td>\n",
              "      <td>0.996717</td>\n",
              "      <td>0.996717</td>\n",
              "      <td>0.997538</td>\n",
              "      <td>0.998359</td>\n",
              "      <td>0.997129</td>\n",
              "      <td>0.997949</td>\n",
              "      <td>0.997497</td>\n",
              "    </tr>\n",
              "    <tr>\n",
              "      <th>5</th>\n",
              "      <td>SVM_RBF</td>\n",
              "      <td>0.959787</td>\n",
              "      <td>0.959376</td>\n",
              "      <td>0.958966</td>\n",
              "      <td>0.956094</td>\n",
              "      <td>0.955273</td>\n",
              "      <td>0.952811</td>\n",
              "      <td>0.956504</td>\n",
              "      <td>0.958145</td>\n",
              "      <td>0.958983</td>\n",
              "      <td>0.958983</td>\n",
              "      <td>0.957492</td>\n",
              "    </tr>\n",
              "    <tr>\n",
              "      <th>6</th>\n",
              "      <td>KNN</td>\n",
              "      <td>0.679114</td>\n",
              "      <td>0.712762</td>\n",
              "      <td>0.659417</td>\n",
              "      <td>0.710300</td>\n",
              "      <td>0.689372</td>\n",
              "      <td>0.683627</td>\n",
              "      <td>0.688141</td>\n",
              "      <td>0.697579</td>\n",
              "      <td>0.693191</td>\n",
              "      <td>0.687039</td>\n",
              "      <td>0.690054</td>\n",
              "    </tr>\n",
              "    <tr>\n",
              "      <th>7</th>\n",
              "      <td>LR</td>\n",
              "      <td>0.988510</td>\n",
              "      <td>0.989331</td>\n",
              "      <td>0.990152</td>\n",
              "      <td>0.989741</td>\n",
              "      <td>0.988921</td>\n",
              "      <td>0.986048</td>\n",
              "      <td>0.987279</td>\n",
              "      <td>0.990152</td>\n",
              "      <td>0.988925</td>\n",
              "      <td>0.988925</td>\n",
              "      <td>0.988799</td>\n",
              "    </tr>\n",
              "    <tr>\n",
              "      <th>8</th>\n",
              "      <td>GNB</td>\n",
              "      <td>0.769799</td>\n",
              "      <td>0.775133</td>\n",
              "      <td>0.772261</td>\n",
              "      <td>0.784982</td>\n",
              "      <td>0.793188</td>\n",
              "      <td>0.766516</td>\n",
              "      <td>0.775133</td>\n",
              "      <td>0.774313</td>\n",
              "      <td>0.779327</td>\n",
              "      <td>0.778507</td>\n",
              "      <td>0.776916</td>\n",
              "    </tr>\n",
              "    <tr>\n",
              "      <th>9</th>\n",
              "      <td>MNB</td>\n",
              "      <td>0.881822</td>\n",
              "      <td>0.882232</td>\n",
              "      <td>0.882643</td>\n",
              "      <td>0.887156</td>\n",
              "      <td>0.882232</td>\n",
              "      <td>0.884284</td>\n",
              "      <td>0.880591</td>\n",
              "      <td>0.883874</td>\n",
              "      <td>0.877769</td>\n",
              "      <td>0.885972</td>\n",
              "      <td>0.882857</td>\n",
              "    </tr>\n",
              "  </tbody>\n",
              "</table>\n",
              "</div>\n",
              "      <button class=\"colab-df-convert\" onclick=\"convertToInteractive('df-c085715b-0517-42aa-8da4-a19bf82ddf2f')\"\n",
              "              title=\"Convert this dataframe to an interactive table.\"\n",
              "              style=\"display:none;\">\n",
              "        \n",
              "  <svg xmlns=\"http://www.w3.org/2000/svg\" height=\"24px\"viewBox=\"0 0 24 24\"\n",
              "       width=\"24px\">\n",
              "    <path d=\"M0 0h24v24H0V0z\" fill=\"none\"/>\n",
              "    <path d=\"M18.56 5.44l.94 2.06.94-2.06 2.06-.94-2.06-.94-.94-2.06-.94 2.06-2.06.94zm-11 1L8.5 8.5l.94-2.06 2.06-.94-2.06-.94L8.5 2.5l-.94 2.06-2.06.94zm10 10l.94 2.06.94-2.06 2.06-.94-2.06-.94-.94-2.06-.94 2.06-2.06.94z\"/><path d=\"M17.41 7.96l-1.37-1.37c-.4-.4-.92-.59-1.43-.59-.52 0-1.04.2-1.43.59L10.3 9.45l-7.72 7.72c-.78.78-.78 2.05 0 2.83L4 21.41c.39.39.9.59 1.41.59.51 0 1.02-.2 1.41-.59l7.78-7.78 2.81-2.81c.8-.78.8-2.07 0-2.86zM5.41 20L4 18.59l7.72-7.72 1.47 1.35L5.41 20z\"/>\n",
              "  </svg>\n",
              "      </button>\n",
              "      \n",
              "  <style>\n",
              "    .colab-df-container {\n",
              "      display:flex;\n",
              "      flex-wrap:wrap;\n",
              "      gap: 12px;\n",
              "    }\n",
              "\n",
              "    .colab-df-convert {\n",
              "      background-color: #E8F0FE;\n",
              "      border: none;\n",
              "      border-radius: 50%;\n",
              "      cursor: pointer;\n",
              "      display: none;\n",
              "      fill: #1967D2;\n",
              "      height: 32px;\n",
              "      padding: 0 0 0 0;\n",
              "      width: 32px;\n",
              "    }\n",
              "\n",
              "    .colab-df-convert:hover {\n",
              "      background-color: #E2EBFA;\n",
              "      box-shadow: 0px 1px 2px rgba(60, 64, 67, 0.3), 0px 1px 3px 1px rgba(60, 64, 67, 0.15);\n",
              "      fill: #174EA6;\n",
              "    }\n",
              "\n",
              "    [theme=dark] .colab-df-convert {\n",
              "      background-color: #3B4455;\n",
              "      fill: #D2E3FC;\n",
              "    }\n",
              "\n",
              "    [theme=dark] .colab-df-convert:hover {\n",
              "      background-color: #434B5C;\n",
              "      box-shadow: 0px 1px 3px 1px rgba(0, 0, 0, 0.15);\n",
              "      filter: drop-shadow(0px 1px 2px rgba(0, 0, 0, 0.3));\n",
              "      fill: #FFFFFF;\n",
              "    }\n",
              "  </style>\n",
              "\n",
              "      <script>\n",
              "        const buttonEl =\n",
              "          document.querySelector('#df-c085715b-0517-42aa-8da4-a19bf82ddf2f button.colab-df-convert');\n",
              "        buttonEl.style.display =\n",
              "          google.colab.kernel.accessAllowed ? 'block' : 'none';\n",
              "\n",
              "        async function convertToInteractive(key) {\n",
              "          const element = document.querySelector('#df-c085715b-0517-42aa-8da4-a19bf82ddf2f');\n",
              "          const dataTable =\n",
              "            await google.colab.kernel.invokeFunction('convertToInteractive',\n",
              "                                                     [key], {});\n",
              "          if (!dataTable) return;\n",
              "\n",
              "          const docLinkHtml = 'Like what you see? Visit the ' +\n",
              "            '<a target=\"_blank\" href=https://colab.research.google.com/notebooks/data_table.ipynb>data table notebook</a>'\n",
              "            + ' to learn more about interactive tables.';\n",
              "          element.innerHTML = '';\n",
              "          dataTable['output_type'] = 'display_data';\n",
              "          await google.colab.output.renderOutput(dataTable, element);\n",
              "          const docLink = document.createElement('div');\n",
              "          docLink.innerHTML = docLinkHtml;\n",
              "          element.appendChild(docLink);\n",
              "        }\n",
              "      </script>\n",
              "    </div>\n",
              "  </div>\n",
              "  "
            ]
          },
          "metadata": {},
          "execution_count": 12
        }
      ]
    },
    {
      "cell_type": "markdown",
      "source": [
        "Store results in tsv files:"
      ],
      "metadata": {
        "id": "TtWF4vXpFpq5"
      }
    },
    {
      "cell_type": "code",
      "source": [
        "df_train.to_csv(\"ML_Train_ACC.tsv\", sep=\"\\t\")\n",
        "df_test.to_csv(\"ML_Test_ACC.tsv\", sep=\"\\t\")"
      ],
      "metadata": {
        "id": "qjr1pHXrx5zt"
      },
      "execution_count": 14,
      "outputs": []
    },
    {
      "cell_type": "code",
      "source": [],
      "metadata": {
        "id": "gorjLAHO0gbE"
      },
      "execution_count": 13,
      "outputs": []
    }
  ]
}