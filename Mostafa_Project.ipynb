{
  "nbformat": 4,
  "nbformat_minor": 0,
  "metadata": {
    "colab": {
      "provenance": [],
      "include_colab_link": true
    },
    "kernelspec": {
      "name": "python3",
      "display_name": "Python 3"
    },
    "language_info": {
      "name": "python"
    },
    "accelerator": "GPU",
    "gpuClass": "standard"
  },
  "cells": [
    {
      "cell_type": "markdown",
      "metadata": {
        "id": "view-in-github",
        "colab_type": "text"
      },
      "source": [
        "<a href=\"https://colab.research.google.com/github/splendidcomputer/cora_project/blob/main/Mostafa_Project.ipynb\" target=\"_parent\"><img src=\"https://colab.research.google.com/assets/colab-badge.svg\" alt=\"Open In Colab\"/></a>"
      ]
    },
    {
      "cell_type": "code",
      "source": [
        "!git clone https://github.com/splendidcomputer/cora_project/blob/main/cora.content"
      ],
      "metadata": {
        "id": "7btQ3ku1GwTP",
        "outputId": "c205e34f-3a33-4916-8fb5-61a22030dd63",
        "colab": {
          "base_uri": "https://localhost:8080/"
        }
      },
      "execution_count": 54,
      "outputs": [
        {
          "output_type": "stream",
          "name": "stdout",
          "text": [
            "Cloning into 'cora.content'...\n",
            "fatal: repository 'https://github.com/splendidcomputer/cora_project/blob/main/cora.content/' not found\n"
          ]
        }
      ]
    },
    {
      "cell_type": "code",
      "execution_count": 55,
      "metadata": {
        "id": "IFq-p5nMe3cS"
      },
      "outputs": [],
      "source": [
        "import pandas as pd\n",
        "import numpy as np\n",
        "\n",
        "from tensorflow.keras.models import Sequential\n",
        "from tensorflow.keras import layers, optimizers, losses, metrics, Model\n",
        "from keras.utils import np_utils\n",
        "from tensorflow.keras.callbacks import Callback\n",
        "\n",
        "from sklearn.preprocessing import LabelEncoder\n",
        "from sklearn.model_selection import StratifiedKFold"
      ]
    },
    {
      "cell_type": "code",
      "source": [
        "cora = pd.read_csv(\"./cora.content\", delimiter=\"\\t\", header=None)\n",
        "y_labels = [\"Case_Based\", \"Genetic_Algorithms\", \"Neural_Networks\", \"Probabilistic_Methods\", \"Reinforcement_Learning\", \"Rule_Learning\", \"Theory\"]\n",
        "\n",
        "for i,label in enumerate(y_labels):\n",
        "    cora[1434][cora[1434]==label] = i"
      ],
      "metadata": {
        "colab": {
          "base_uri": "https://localhost:8080/"
        },
        "id": "nk90lZNce4xY",
        "outputId": "f8d083de-d9be-4fcb-e044-54afcb7180cc"
      },
      "execution_count": null,
      "outputs": [
        {
          "output_type": "stream",
          "name": "stderr",
          "text": [
            "<ipython-input-2-3b73d10176e0>:5: SettingWithCopyWarning: \n",
            "A value is trying to be set on a copy of a slice from a DataFrame\n",
            "\n",
            "See the caveats in the documentation: https://pandas.pydata.org/pandas-docs/stable/user_guide/indexing.html#returning-a-view-versus-a-copy\n",
            "  cora[1434][cora[1434]==label] = i\n"
          ]
        }
      ]
    },
    {
      "cell_type": "code",
      "source": [
        "X = np.asarray(cora.iloc[:,1:-1]).astype('float32')\n",
        "y = np.asarray(cora.iloc[:,-1]).astype('float32')"
      ],
      "metadata": {
        "id": "3g0WOc4tfpF-"
      },
      "execution_count": null,
      "outputs": []
    },
    {
      "cell_type": "code",
      "source": [
        "# encode class values as integers\n",
        "encoder = LabelEncoder()\n",
        "encoder.fit(y)\n",
        "encoded_Y = encoder.transform(y)\n"
      ],
      "metadata": {
        "id": "NjgDjV2zGIbE"
      },
      "execution_count": null,
      "outputs": []
    },
    {
      "cell_type": "code",
      "source": [
        "model = Sequential()\n",
        "model.add(layers.Dense(512, input_shape=(1433,), activation='relu'))\n",
        "model.add(layers.Dense(256, activation='relu'))\n",
        "model.add(layers.Dropout(0.4))\n",
        "model.add(layers.Dense(128, activation='relu'))\n",
        "model.add(layers.Dropout(0.4))\n",
        "model.add(layers.Dense(64, activation='relu'))\n",
        "model.add(layers.Dense(10, activation='relu'))\n",
        "model.add(layers.Dense(7, activation='softmax'))\n",
        "# compile the keras model\n",
        "model.compile(loss='categorical_crossentropy', optimizer='adam', metrics=['accuracy'])\n",
        "\n"
      ],
      "metadata": {
        "id": "z-JqaIzshhJ9"
      },
      "execution_count": null,
      "outputs": []
    },
    {
      "cell_type": "code",
      "source": [
        "# Implement callback function to stop training\n",
        "# when accuracy reaches e.g. ACCURACY_THRESHOLD = 0.95\n",
        "\n",
        "VALIDATION_ACCURACY_THRESHOLD = 0.75\n",
        "\n",
        "class myCallback(Callback): \n",
        "    def on_epoch_end(self, epoch, logs={}): \n",
        "        if(logs.get('val_accuracy') > VALIDATION_ACCURACY_THRESHOLD):   \n",
        "          print(\"\\nReached %2.2f%% accuracy, so stopping training!!\" %(VALIDATION_ACCURACY_THRESHOLD*100))   \n",
        "          self.model.stop_training = True\n",
        "\n",
        "callbacks = myCallback()\n"
      ],
      "metadata": {
        "id": "KTZyvgl7xXEn"
      },
      "execution_count": null,
      "outputs": []
    },
    {
      "cell_type": "code",
      "source": [
        "kFold = StratifiedKFold(n_splits=10)\n",
        "# fit the keras model on the dataset\n",
        "for train, test in kFold.split(X, encoded_Y):\n",
        "  # convert integers to dummy variables (i.e. one hot encoded)\n",
        "  dummy_y = np_utils.to_categorical(encoded_Y)\n",
        "  model.fit(X[train], dummy_y[train], validation_data=(X[test], dummy_y[test]), epochs=20, batch_size=1, callbacks=[callbacks])"
      ],
      "metadata": {
        "colab": {
          "base_uri": "https://localhost:8080/"
        },
        "id": "6uN06U0NtmYM",
        "outputId": "013a1176-1d4c-46ee-e653-8e8c77443d3e"
      },
      "execution_count": null,
      "outputs": [
        {
          "output_type": "stream",
          "name": "stdout",
          "text": [
            "Epoch 1/20\n",
            "2437/2437 [==============================] - 10s 3ms/step - loss: 1.3993 - accuracy: 0.4908 - val_loss: 1.0211 - val_accuracy: 0.6199\n",
            "Epoch 2/20\n",
            "2437/2437 [==============================] - 7s 3ms/step - loss: 0.8294 - accuracy: 0.7144 - val_loss: 1.0697 - val_accuracy: 0.6642\n",
            "Epoch 3/20\n",
            "2437/2437 [==============================] - 7s 3ms/step - loss: 0.4411 - accuracy: 0.8580 - val_loss: 1.1156 - val_accuracy: 0.7417\n",
            "Epoch 4/20\n",
            "2434/2437 [============================>.] - ETA: 0s - loss: 0.2373 - accuracy: 0.9322\n",
            "Reached 75.00% accuracy, so stopping training!!\n",
            "2437/2437 [==============================] - 7s 3ms/step - loss: 0.2371 - accuracy: 0.9323 - val_loss: 1.5078 - val_accuracy: 0.7675\n",
            "Epoch 1/20\n",
            "2434/2437 [============================>.] - ETA: 0s - loss: 0.3179 - accuracy: 0.9339\n",
            "Reached 75.00% accuracy, so stopping training!!\n",
            "2437/2437 [==============================] - 7s 3ms/step - loss: 0.3188 - accuracy: 0.9335 - val_loss: 0.1261 - val_accuracy: 0.9631\n",
            "Epoch 1/20\n",
            "2436/2437 [============================>.] - ETA: 0s - loss: 0.1422 - accuracy: 0.9643\n",
            "Reached 75.00% accuracy, so stopping training!!\n",
            "2437/2437 [==============================] - 7s 3ms/step - loss: 0.1422 - accuracy: 0.9643 - val_loss: 0.0493 - val_accuracy: 0.9889\n",
            "Epoch 1/20\n",
            "2431/2437 [============================>.] - ETA: 0s - loss: 0.0838 - accuracy: 0.9815\n",
            "Reached 75.00% accuracy, so stopping training!!\n",
            "2437/2437 [==============================] - 7s 3ms/step - loss: 0.0837 - accuracy: 0.9815 - val_loss: 0.0552 - val_accuracy: 0.9742\n",
            "Epoch 1/20\n",
            "2433/2437 [============================>.] - ETA: 0s - loss: 0.0814 - accuracy: 0.9864\n",
            "Reached 75.00% accuracy, so stopping training!!\n",
            "2437/2437 [==============================] - 7s 3ms/step - loss: 0.0813 - accuracy: 0.9865 - val_loss: 0.0184 - val_accuracy: 0.9926\n",
            "Epoch 1/20\n",
            "2433/2437 [============================>.] - ETA: 0s - loss: 0.0729 - accuracy: 0.9881\n",
            "Reached 75.00% accuracy, so stopping training!!\n",
            "2437/2437 [==============================] - 7s 3ms/step - loss: 0.0728 - accuracy: 0.9881 - val_loss: 6.1928e-04 - val_accuracy: 1.0000\n",
            "Epoch 1/20\n",
            "2419/2437 [============================>.] - ETA: 0s - loss: 0.0710 - accuracy: 0.9872\n",
            "Reached 75.00% accuracy, so stopping training!!\n",
            "2437/2437 [==============================] - 7s 3ms/step - loss: 0.0705 - accuracy: 0.9873 - val_loss: 0.0076 - val_accuracy: 0.9963\n",
            "Epoch 1/20\n",
            "2434/2437 [============================>.] - ETA: 0s - loss: 0.0758 - accuracy: 0.9885\n",
            "Reached 75.00% accuracy, so stopping training!!\n",
            "2437/2437 [==============================] - 7s 3ms/step - loss: 0.0757 - accuracy: 0.9885 - val_loss: 0.0157 - val_accuracy: 0.9926\n",
            "Epoch 1/20\n",
            "2426/2438 [============================>.] - ETA: 0s - loss: 0.0208 - accuracy: 0.9926\n",
            "Reached 75.00% accuracy, so stopping training!!\n",
            "2438/2438 [==============================] - 7s 3ms/step - loss: 0.0207 - accuracy: 0.9926 - val_loss: 0.0101 - val_accuracy: 0.9926\n",
            "Epoch 1/20\n",
            "2426/2438 [============================>.] - ETA: 0s - loss: 0.0495 - accuracy: 0.9926\n",
            "Reached 75.00% accuracy, so stopping training!!\n",
            "2438/2438 [==============================] - 7s 3ms/step - loss: 0.0492 - accuracy: 0.9926 - val_loss: 0.0039 - val_accuracy: 1.0000\n"
          ]
        }
      ]
    },
    {
      "cell_type": "code",
      "source": [
        "list_predictions = []\n",
        "folds_val_acc = []\n",
        "for train, test in kFold.split(X, encoded_Y):\n",
        "  fold_predictions = np.argmax(model.predict(X[test]), axis=1)\n",
        "  list_predictions.append(fold_predictions) \n",
        "  dummy_y = np_utils.to_categorical(encoded_Y)\n",
        "  folds_val_acc.append(model.evaluate(X[test], dummy_y[test]))"
      ],
      "metadata": {
        "colab": {
          "base_uri": "https://localhost:8080/"
        },
        "id": "NSJRVc35tVeM",
        "outputId": "dc79f781-0115-444e-d768-7715ad437496"
      },
      "execution_count": null,
      "outputs": [
        {
          "output_type": "stream",
          "name": "stdout",
          "text": [
            "9/9 [==============================] - 0s 3ms/step\n",
            "9/9 [==============================] - 0s 3ms/step - loss: 0.0143 - accuracy: 0.9963\n",
            "9/9 [==============================] - 0s 2ms/step\n",
            "9/9 [==============================] - 0s 3ms/step - loss: 5.6483e-04 - accuracy: 1.0000\n",
            "9/9 [==============================] - 0s 2ms/step\n",
            "9/9 [==============================] - 0s 4ms/step - loss: 0.0270 - accuracy: 0.9926\n",
            "9/9 [==============================] - 0s 2ms/step\n",
            "9/9 [==============================] - 0s 4ms/step - loss: 0.0120 - accuracy: 0.9926\n",
            "9/9 [==============================] - 0s 3ms/step\n",
            "9/9 [==============================] - 0s 3ms/step - loss: 6.3343e-04 - accuracy: 1.0000\n",
            "9/9 [==============================] - 0s 2ms/step\n",
            "9/9 [==============================] - 0s 3ms/step - loss: 4.1474e-05 - accuracy: 1.0000\n",
            "9/9 [==============================] - 0s 2ms/step\n",
            "9/9 [==============================] - 0s 3ms/step - loss: 0.0020 - accuracy: 1.0000\n",
            "9/9 [==============================] - 0s 2ms/step\n",
            "9/9 [==============================] - 0s 3ms/step - loss: 0.0276 - accuracy: 0.9926\n",
            "9/9 [==============================] - 0s 2ms/step\n",
            "9/9 [==============================] - 0s 3ms/step - loss: 0.0107 - accuracy: 0.9926\n",
            "9/9 [==============================] - 0s 2ms/step\n",
            "9/9 [==============================] - 0s 3ms/step - loss: 0.0039 - accuracy: 1.0000\n"
          ]
        }
      ]
    },
    {
      "cell_type": "code",
      "source": [
        "folds_val_acc"
      ],
      "metadata": {
        "colab": {
          "base_uri": "https://localhost:8080/"
        },
        "id": "RYu90RS0ZdIA",
        "outputId": "5ad971b3-b38b-46bb-8d11-19f630a0af1e"
      },
      "execution_count": null,
      "outputs": [
        {
          "output_type": "execute_result",
          "data": {
            "text/plain": [
              "[[0.014322157017886639, 0.9963099360466003],\n",
              " [0.0005648264777846634, 1.0],\n",
              " [0.02704770304262638, 0.9926199316978455],\n",
              " [0.012001010589301586, 0.9926199316978455],\n",
              " [0.0006334340432658792, 1.0],\n",
              " [4.1473711462458596e-05, 1.0],\n",
              " [0.001961861504241824, 1.0],\n",
              " [0.0276322141289711, 0.9926199316978455],\n",
              " [0.010744171217083931, 0.9925925731658936],\n",
              " [0.003907768987119198, 1.0]]"
            ]
          },
          "metadata": {},
          "execution_count": 9
        }
      ]
    },
    {
      "cell_type": "code",
      "source": [
        "list_predictions"
      ],
      "metadata": {
        "colab": {
          "base_uri": "https://localhost:8080/"
        },
        "id": "mE7DI9DL0mZ2",
        "outputId": "34a28a98-37cb-47f1-a0e3-d52be6aea4c7"
      },
      "execution_count": null,
      "outputs": [
        {
          "output_type": "execute_result",
          "data": {
            "text/plain": [
              "[array([2, 5, 4, 4, 3, 3, 6, 2, 2, 6, 2, 1, 3, 0, 2, 2, 4, 2, 2, 2, 6, 4,\n",
              "        1, 3, 4, 6, 2, 3, 2, 5, 0, 2, 0, 2, 4, 4, 2, 4, 1, 4, 6, 3, 1, 2,\n",
              "        0, 4, 2, 0, 3, 0, 0, 3, 6, 1, 6, 1, 6, 4, 2, 2, 4, 0, 3, 4, 0, 1,\n",
              "        0, 3, 2, 0, 6, 3, 2, 4, 3, 0, 3, 2, 6, 6, 2, 3, 4, 2, 3, 4, 5, 5,\n",
              "        6, 6, 2, 2, 4, 3, 3, 3, 0, 2, 6, 3, 1, 2, 2, 4, 2, 3, 5, 3, 3, 6,\n",
              "        2, 2, 2, 2, 6, 3, 0, 3, 4, 5, 1, 2, 2, 2, 2, 2, 3, 2, 4, 1, 6, 3,\n",
              "        4, 2, 2, 5, 5, 3, 3, 1, 6, 1, 2, 2, 2, 1, 2, 5, 4, 0, 0, 6, 2, 2,\n",
              "        2, 3, 5, 6, 5, 6, 2, 3, 1, 6, 5, 0, 1, 2, 3, 6, 0, 2, 2, 5, 6, 5,\n",
              "        2, 2, 6, 3, 0, 5, 3, 2, 1, 1, 2, 1, 2, 2, 2, 5, 5, 2, 6, 2, 2, 2,\n",
              "        2, 2, 2, 2, 2, 6, 1, 3, 2, 2, 0, 5, 2, 3, 1, 0, 0, 5, 0, 2, 6, 1,\n",
              "        2, 2, 0, 2, 2, 2, 2, 0, 1, 2, 1, 2, 6, 1, 2, 0, 3, 3, 3, 6, 2, 6,\n",
              "        0, 0, 3, 0, 6, 1, 6, 3, 1, 3, 3, 3, 6, 1, 6, 1, 1, 1, 1, 1, 1, 1,\n",
              "        1, 1, 1, 1, 1, 1, 1]),\n",
              " array([4, 4, 4, 4, 4, 4, 4, 4, 5, 4, 4, 5, 4, 2, 2, 2, 2, 2, 0, 2, 2, 2,\n",
              "        2, 4, 4, 3, 3, 4, 2, 2, 0, 0, 5, 0, 0, 2, 3, 2, 4, 4, 2, 4, 6, 0,\n",
              "        2, 5, 0, 2, 4, 4, 5, 6, 2, 2, 3, 0, 5, 2, 5, 6, 0, 6, 2, 4, 6, 6,\n",
              "        3, 3, 3, 3, 2, 2, 2, 3, 4, 6, 5, 2, 2, 2, 3, 2, 2, 3, 5, 3, 2, 3,\n",
              "        5, 2, 2, 2, 3, 2, 2, 2, 2, 3, 2, 2, 2, 2, 2, 2, 2, 4, 2, 2, 3, 5,\n",
              "        6, 3, 2, 6, 5, 6, 6, 2, 2, 2, 2, 2, 3, 2, 3, 2, 2, 5, 2, 3, 2, 6,\n",
              "        3, 2, 2, 2, 2, 2, 2, 2, 2, 0, 3, 5, 6, 3, 2, 6, 3, 6, 5, 2, 5, 3,\n",
              "        6, 6, 5, 5, 0, 2, 6, 2, 6, 2, 0, 3, 2, 2, 0, 2, 0, 3, 3, 6, 0, 6,\n",
              "        0, 2, 6, 2, 2, 3, 3, 3, 2, 0, 2, 1, 2, 0, 0, 2, 6, 0, 3, 3, 0, 2,\n",
              "        6, 2, 3, 1, 2, 3, 6, 3, 3, 6, 6, 3, 3, 3, 6, 3, 6, 6, 6, 1, 6, 1,\n",
              "        3, 0, 6, 1, 1, 0, 0, 0, 0, 1, 6, 6, 6, 0, 0, 0, 0, 1, 1, 1, 1, 1,\n",
              "        1, 1, 1, 1, 1, 1, 1, 1, 1, 1, 1, 1, 1, 1, 1, 1, 1, 1, 1, 1, 1, 1,\n",
              "        1, 1, 1, 1, 1, 1, 1]),\n",
              " array([4, 4, 4, 4, 4, 4, 4, 4, 4, 4, 4, 4, 4, 4, 4, 4, 4, 4, 4, 4, 4, 2,\n",
              "        4, 2, 2, 2, 2, 5, 2, 2, 2, 6, 5, 2, 2, 2, 2, 2, 2, 3, 2, 2, 2, 2,\n",
              "        2, 2, 6, 3, 3, 6, 2, 6, 2, 6, 2, 3, 6, 2, 3, 2, 0, 2, 5, 2, 2, 2,\n",
              "        2, 6, 2, 0, 0, 2, 6, 5, 5, 2, 2, 0, 2, 2, 2, 2, 2, 2, 2, 0, 2, 6,\n",
              "        6, 2, 2, 6, 3, 2, 2, 3, 6, 2, 2, 2, 2, 0, 2, 2, 3, 0, 6, 3, 6, 3,\n",
              "        6, 3, 3, 0, 3, 3, 3, 2, 0, 2, 5, 5, 2, 2, 6, 3, 2, 2, 2, 2, 2, 2,\n",
              "        2, 5, 0, 6, 2, 2, 5, 2, 2, 2, 0, 2, 0, 3, 2, 0, 2, 0, 6, 2, 2, 6,\n",
              "        2, 3, 2, 6, 2, 2, 2, 3, 2, 6, 5, 2, 2, 6, 3, 3, 3, 2, 6, 3, 3, 3,\n",
              "        6, 5, 6, 3, 3, 0, 5, 3, 0, 6, 6, 6, 3, 3, 3, 3, 6, 0, 0, 6, 3, 3,\n",
              "        6, 6, 6, 6, 6, 6, 0, 0, 3, 0, 0, 0, 0, 0, 0, 3, 0, 0, 5, 3, 3, 5,\n",
              "        3, 3, 3, 0, 0, 5, 1, 5, 1, 1, 1, 1, 1, 1, 1, 1, 1, 1, 1, 1, 1, 1,\n",
              "        5, 1, 5, 1, 1, 1, 1, 1, 1, 1, 1, 1, 1, 1, 1, 1, 1, 1, 1, 1, 1, 1,\n",
              "        1, 1, 1, 1, 1, 1, 1]),\n",
              " array([4, 4, 4, 4, 4, 4, 4, 4, 4, 4, 4, 4, 4, 4, 4, 4, 4, 4, 4, 4, 4, 4,\n",
              "        2, 2, 2, 2, 2, 2, 2, 2, 2, 2, 2, 2, 2, 2, 2, 2, 2, 2, 2, 2, 2, 2,\n",
              "        2, 2, 2, 2, 2, 2, 2, 2, 2, 2, 2, 2, 2, 6, 2, 2, 2, 2, 2, 2, 2, 6,\n",
              "        2, 2, 2, 6, 6, 6, 3, 6, 6, 0, 2, 2, 6, 2, 2, 3, 3, 2, 2, 2, 6, 2,\n",
              "        2, 0, 6, 6, 2, 6, 3, 3, 2, 3, 3, 3, 3, 3, 3, 3, 2, 0, 6, 3, 3, 2,\n",
              "        2, 6, 3, 6, 2, 3, 2, 3, 2, 3, 2, 2, 2, 2, 0, 0, 6, 2, 6, 0, 0, 3,\n",
              "        2, 6, 6, 0, 2, 3, 3, 2, 0, 2, 2, 3, 0, 3, 3, 6, 6, 2, 6, 2, 3, 3,\n",
              "        3, 2, 3, 6, 2, 2, 2, 0, 0, 0, 3, 0, 3, 2, 2, 0, 0, 3, 0, 3, 5, 3,\n",
              "        3, 6, 0, 0, 6, 6, 2, 6, 5, 5, 5, 5, 3, 3, 6, 3, 6, 6, 6, 6, 3, 6,\n",
              "        0, 0, 5, 0, 0, 0, 5, 6, 6, 5, 6, 3, 5, 5, 3, 3, 5, 5, 3, 0, 5, 0,\n",
              "        0, 5, 0, 1, 0, 1, 1, 1, 1, 1, 1, 1, 1, 1, 1, 1, 1, 5, 1, 1, 5, 1,\n",
              "        1, 5, 1, 5, 5, 1, 1, 1, 1, 1, 1, 1, 1, 1, 1, 1, 1, 1, 1, 1, 1, 1,\n",
              "        1, 1, 1, 1, 1, 1, 1]),\n",
              " array([4, 4, 4, 4, 4, 4, 4, 4, 4, 4, 4, 4, 4, 4, 4, 4, 4, 4, 4, 4, 4, 4,\n",
              "        2, 2, 2, 2, 2, 2, 2, 2, 2, 2, 2, 2, 2, 2, 2, 2, 2, 2, 2, 2, 2, 2,\n",
              "        2, 2, 6, 2, 2, 2, 3, 3, 2, 2, 2, 6, 2, 2, 6, 3, 2, 2, 6, 6, 3, 6,\n",
              "        2, 2, 2, 2, 2, 2, 0, 0, 0, 6, 0, 0, 3, 2, 6, 3, 6, 0, 3, 2, 2, 2,\n",
              "        3, 0, 2, 2, 0, 0, 0, 3, 2, 3, 6, 6, 3, 0, 6, 6, 3, 2, 6, 2, 3, 6,\n",
              "        6, 2, 2, 6, 6, 3, 6, 2, 6, 2, 6, 0, 2, 2, 6, 6, 6, 2, 3, 2, 5, 0,\n",
              "        0, 2, 0, 0, 0, 2, 2, 6, 5, 6, 2, 0, 5, 6, 6, 6, 6, 2, 3, 3, 2, 2,\n",
              "        5, 2, 2, 2, 0, 2, 2, 2, 2, 3, 5, 2, 5, 6, 2, 0, 2, 2, 6, 3, 6, 6,\n",
              "        5, 2, 6, 5, 3, 0, 2, 2, 2, 2, 2, 3, 3, 2, 3, 5, 3, 5, 5, 0, 0, 1,\n",
              "        3, 1, 5, 0, 1, 3, 1, 3, 5, 1, 1, 1, 1, 1, 3, 3, 3, 0, 0, 3, 0, 0,\n",
              "        1, 1, 0, 0, 3, 1, 1, 5, 1, 3, 3, 1, 1, 3, 1, 1, 3, 1, 1, 3, 3, 1,\n",
              "        1, 1, 1, 3, 3, 3, 1, 3, 5, 5, 1, 5, 1, 1, 5, 1, 1, 1, 1, 1, 1, 1,\n",
              "        1, 1, 1, 1, 1, 1, 1]),\n",
              " array([4, 4, 4, 4, 4, 4, 4, 4, 4, 4, 4, 4, 4, 4, 4, 4, 4, 6, 6, 2, 2, 6,\n",
              "        2, 2, 6, 2, 6, 6, 2, 4, 2, 4, 2, 2, 2, 6, 2, 2, 6, 6, 6, 2, 2, 2,\n",
              "        6, 2, 4, 2, 2, 6, 2, 6, 6, 6, 6, 2, 2, 0, 0, 2, 2, 4, 0, 2, 2, 2,\n",
              "        0, 6, 2, 6, 2, 6, 2, 2, 2, 6, 0, 2, 2, 2, 0, 2, 0, 0, 0, 2, 2, 0,\n",
              "        2, 2, 2, 0, 3, 2, 2, 6, 2, 3, 3, 6, 5, 2, 0, 6, 2, 2, 2, 0, 2, 6,\n",
              "        2, 3, 6, 2, 2, 3, 2, 0, 6, 6, 2, 2, 2, 0, 2, 3, 3, 2, 6, 0, 6, 2,\n",
              "        5, 2, 2, 5, 2, 6, 6, 2, 2, 0, 0, 0, 2, 6, 2, 3, 3, 3, 6, 3, 3, 2,\n",
              "        2, 6, 2, 3, 0, 6, 2, 5, 2, 2, 3, 2, 3, 5, 0, 3, 0, 0, 0, 2, 5, 1,\n",
              "        0, 3, 1, 3, 2, 3, 3, 2, 0, 0, 0, 3, 0, 1, 2, 2, 1, 2, 1, 0, 5, 1,\n",
              "        1, 1, 1, 5, 2, 1, 3, 2, 5, 1, 1, 2, 2, 3, 1, 5, 1, 3, 1, 3, 5, 1,\n",
              "        3, 3, 3, 5, 5, 3, 5, 1, 1, 1, 3, 1, 1, 5, 3, 3, 1, 1, 3, 1, 1, 1,\n",
              "        5, 3, 3, 5, 1, 5, 1, 1, 1, 1, 1, 1, 3, 3, 1, 3, 1, 1, 3, 3, 1, 1,\n",
              "        1, 3, 3, 1, 1, 1, 3]),\n",
              " array([4, 4, 4, 4, 4, 4, 4, 6, 6, 4, 4, 4, 6, 4, 4, 6, 6, 6, 0, 4, 0, 6,\n",
              "        4, 0, 4, 6, 4, 6, 0, 4, 2, 2, 2, 6, 2, 6, 2, 2, 2, 4, 0, 6, 0, 2,\n",
              "        4, 0, 2, 2, 4, 2, 2, 0, 0, 2, 2, 0, 0, 4, 2, 2, 6, 0, 2, 0, 2, 2,\n",
              "        2, 6, 2, 6, 2, 0, 2, 2, 6, 6, 2, 0, 2, 2, 6, 0, 6, 6, 0, 2, 0, 0,\n",
              "        2, 2, 6, 2, 6, 0, 0, 6, 2, 2, 6, 2, 5, 5, 2, 2, 5, 6, 2, 0, 1, 6,\n",
              "        1, 1, 2, 1, 2, 3, 6, 3, 5, 2, 0, 2, 2, 1, 3, 3, 2, 3, 6, 2, 3, 3,\n",
              "        2, 1, 2, 1, 2, 2, 2, 1, 5, 3, 2, 5, 3, 1, 1, 6, 2, 2, 2, 1, 6, 2,\n",
              "        2, 2, 1, 1, 2, 1, 3, 2, 3, 3, 0, 0, 2, 1, 6, 0, 2, 2, 2, 2, 2, 2,\n",
              "        2, 2, 5, 2, 2, 2, 6, 6, 2, 1, 6, 3, 0, 1, 1, 6, 1, 1, 5, 3, 1, 1,\n",
              "        3, 0, 2, 2, 5, 1, 2, 3, 0, 0, 3, 3, 2, 2, 2, 3, 2, 3, 2, 1, 2, 2,\n",
              "        3, 1, 2, 1, 5, 1, 1, 3, 3, 3, 3, 3, 1, 3, 3, 3, 3, 3, 1, 3, 1, 5,\n",
              "        1, 3, 1, 3, 1, 1, 3, 3, 1, 3, 3, 1, 3, 3, 1, 5, 3, 1, 1, 5, 5, 1,\n",
              "        1, 5, 5, 3, 3, 5, 5]),\n",
              " array([4, 4, 4, 4, 4, 4, 4, 4, 4, 4, 4, 4, 4, 4, 4, 4, 6, 4, 4, 4, 6, 6,\n",
              "        6, 4, 0, 6, 6, 6, 0, 6, 0, 0, 2, 2, 2, 2, 6, 2, 2, 0, 2, 2, 2, 6,\n",
              "        2, 2, 0, 2, 2, 2, 2, 6, 2, 2, 6, 2, 2, 2, 2, 2, 2, 2, 2, 2, 0, 2,\n",
              "        2, 4, 2, 6, 6, 1, 2, 6, 2, 2, 1, 1, 2, 0, 3, 1, 2, 3, 3, 1, 1, 6,\n",
              "        0, 3, 0, 2, 3, 3, 3, 3, 3, 2, 2, 2, 1, 3, 1, 3, 1, 6, 6, 6, 3, 0,\n",
              "        6, 6, 2, 6, 3, 3, 2, 2, 2, 6, 2, 2, 3, 2, 6, 2, 1, 6, 2, 3, 0, 6,\n",
              "        0, 0, 1, 6, 2, 2, 2, 2, 5, 2, 1, 0, 2, 2, 0, 6, 6, 1, 2, 0, 1, 6,\n",
              "        0, 0, 0, 3, 3, 1, 6, 6, 2, 3, 5, 0, 2, 6, 0, 0, 3, 1, 3, 5, 6, 3,\n",
              "        1, 2, 2, 2, 1, 1, 3, 1, 2, 0, 6, 2, 3, 2, 5, 3, 6, 5, 1, 1, 1, 1,\n",
              "        2, 5, 2, 3, 2, 1, 2, 3, 3, 1, 2, 2, 2, 2, 0, 0, 2, 2, 5, 3, 0, 2,\n",
              "        1, 0, 5, 1, 2, 3, 0, 3, 1, 1, 5, 2, 3, 2, 3, 5, 0, 1, 3, 2, 2, 5,\n",
              "        3, 3, 3, 2, 5, 3, 1, 3, 3, 3, 1, 5, 1, 1, 2, 1, 2, 5, 5, 5, 1, 1,\n",
              "        5, 5, 1, 1, 1, 1, 1]),\n",
              " array([4, 4, 4, 4, 4, 4, 4, 4, 4, 6, 6, 6, 4, 6, 6, 6, 6, 4, 6, 0, 6, 6,\n",
              "        4, 4, 6, 2, 6, 4, 0, 2, 2, 2, 2, 6, 6, 2, 2, 1, 1, 4, 3, 4, 6, 1,\n",
              "        2, 5, 2, 0, 1, 5, 2, 3, 1, 3, 4, 2, 2, 6, 1, 2, 2, 5, 2, 0, 1, 2,\n",
              "        3, 3, 2, 1, 1, 2, 5, 3, 3, 2, 0, 0, 6, 2, 1, 1, 1, 1, 4, 5, 1, 1,\n",
              "        2, 1, 2, 1, 2, 1, 2, 2, 1, 1, 3, 1, 2, 1, 2, 1, 2, 6, 1, 2, 0, 1,\n",
              "        2, 2, 1, 2, 5, 2, 2, 3, 1, 3, 3, 0, 5, 5, 3, 3, 0, 1, 1, 6, 1, 0,\n",
              "        5, 3, 1, 0, 2, 4, 2, 2, 0, 4, 0, 3, 5, 3, 2, 6, 1, 1, 3, 0, 6, 2,\n",
              "        2, 3, 6, 2, 6, 6, 4, 6, 1, 6, 1, 6, 1, 2, 2, 2, 0, 5, 2, 3, 6, 3,\n",
              "        2, 6, 6, 1, 3, 2, 6, 2, 2, 1, 6, 2, 6, 2, 2, 0, 6, 1, 3, 1, 0, 5,\n",
              "        3, 6, 4, 0, 2, 0, 0, 2, 2, 3, 2, 3, 2, 1, 3, 2, 2, 2, 3, 2, 2, 2,\n",
              "        2, 3, 2, 2, 2, 0, 2, 0, 0, 2, 3, 0, 3, 2, 4, 2, 2, 2, 2, 5, 3, 3,\n",
              "        3, 3, 3, 2, 5, 3, 5, 2, 3, 5, 2, 3, 2, 5, 2, 2, 2, 5, 3, 0, 5, 3,\n",
              "        3, 3, 3, 0, 0, 0]),\n",
              " array([6, 1, 1, 1, 1, 4, 4, 4, 6, 6, 1, 4, 4, 4, 4, 4, 2, 1, 2, 5, 1, 2,\n",
              "        4, 2, 6, 2, 2, 3, 3, 3, 6, 3, 2, 1, 4, 0, 3, 6, 6, 2, 1, 1, 4, 6,\n",
              "        0, 6, 0, 4, 2, 6, 3, 0, 1, 2, 3, 5, 4, 6, 2, 2, 2, 2, 2, 2, 0, 2,\n",
              "        1, 2, 3, 2, 6, 6, 3, 6, 1, 2, 3, 1, 1, 2, 1, 1, 0, 1, 2, 2, 3, 3,\n",
              "        2, 5, 6, 3, 2, 3, 3, 2, 5, 2, 4, 2, 2, 5, 2, 1, 2, 3, 0, 2, 3, 0,\n",
              "        6, 2, 5, 4, 2, 2, 1, 6, 0, 2, 3, 3, 6, 3, 2, 1, 1, 0, 3, 2, 0, 2,\n",
              "        2, 2, 2, 3, 2, 3, 2, 3, 3, 2, 6, 0, 2, 6, 2, 0, 4, 5, 3, 5, 3, 5,\n",
              "        3, 0, 2, 2, 3, 0, 1, 2, 1, 2, 5, 2, 1, 0, 2, 0, 2, 5, 2, 2, 2, 1,\n",
              "        0, 2, 0, 5, 6, 2, 3, 2, 0, 6, 1, 2, 0, 6, 4, 4, 1, 2, 2, 6, 3, 0,\n",
              "        5, 1, 1, 2, 5, 1, 2, 1, 6, 0, 1, 4, 2, 5, 5, 6, 0, 6, 3, 4, 0, 6,\n",
              "        0, 1, 3, 3, 2, 5, 1, 0, 4, 1, 5, 3, 2, 2, 2, 1, 2, 6, 2, 3, 2, 3,\n",
              "        2, 2, 3, 2, 2, 6, 2, 4, 1, 6, 6, 2, 0, 3, 6, 6, 6, 3, 3, 3, 3, 2,\n",
              "        1, 1, 1, 1, 0, 2])]"
            ]
          },
          "metadata": {},
          "execution_count": 10
        }
      ]
    },
    {
      "cell_type": "code",
      "source": [
        "final_predictions = []\n",
        "for fold_prediction in list_predictions:\n",
        "  for item in fold_prediction:\n",
        "    final_predictions.append(y_labels[item])"
      ],
      "metadata": {
        "id": "JXTT153W1lhw"
      },
      "execution_count": null,
      "outputs": []
    },
    {
      "cell_type": "code",
      "source": [
        "final_predictions_array = np.array([cora.iloc[:,0],final_predictions]).T"
      ],
      "metadata": {
        "id": "Mvb6bkhZ3vac"
      },
      "execution_count": null,
      "outputs": []
    },
    {
      "cell_type": "code",
      "source": [
        "final_predictions_array"
      ],
      "metadata": {
        "colab": {
          "base_uri": "https://localhost:8080/"
        },
        "id": "oQdS_tyf3_zW",
        "outputId": "7b796b37-73e9-4be0-c55b-bdb9ebd23901"
      },
      "execution_count": null,
      "outputs": [
        {
          "output_type": "execute_result",
          "data": {
            "text/plain": [
              "array([['31336', 'Neural_Networks'],\n",
              "       ['1061127', 'Rule_Learning'],\n",
              "       ['1106406', 'Reinforcement_Learning'],\n",
              "       ...,\n",
              "       ['1128978', 'Genetic_Algorithms'],\n",
              "       ['117328', 'Case_Based'],\n",
              "       ['24043', 'Neural_Networks']], dtype='<U22')"
            ]
          },
          "metadata": {},
          "execution_count": 13
        }
      ]
    },
    {
      "cell_type": "code",
      "source": [
        "list_ids = list(cora.iloc[:,0])"
      ],
      "metadata": {
        "id": "Za3qbcqt58FA"
      },
      "execution_count": null,
      "outputs": []
    },
    {
      "cell_type": "code",
      "source": [
        "d = {'IDs': list_ids, 'Predictions': final_predictions}\n",
        "df = pd.DataFrame(data=d)"
      ],
      "metadata": {
        "id": "8VjUIy996yn8"
      },
      "execution_count": null,
      "outputs": []
    },
    {
      "cell_type": "code",
      "source": [
        "df.to_csv('final_predictions.tsv', sep=\"\\t\")"
      ],
      "metadata": {
        "id": "n0H0_Wez5ZI9"
      },
      "execution_count": null,
      "outputs": []
    },
    {
      "cell_type": "code",
      "source": [],
      "metadata": {
        "id": "4rEDG7gM4TmZ"
      },
      "execution_count": null,
      "outputs": []
    }
  ]
}