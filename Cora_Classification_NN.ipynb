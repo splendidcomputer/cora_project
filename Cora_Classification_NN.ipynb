{
  "nbformat": 4,
  "nbformat_minor": 0,
  "metadata": {
    "colab": {
      "provenance": []
    },
    "kernelspec": {
      "name": "python3",
      "display_name": "Python 3"
    },
    "language_info": {
      "name": "python"
    },
    "accelerator": "GPU",
    "gpuClass": "standard"
  },
  "cells": [
    {
      "cell_type": "code",
      "source": [
        "!git clone https://github.com/splendidcomputer/cora_project"
      ],
      "metadata": {
        "id": "7btQ3ku1GwTP",
        "outputId": "eac12dd3-2da1-4e00-924b-4c418c278c37",
        "colab": {
          "base_uri": "https://localhost:8080/"
        }
      },
      "execution_count": null,
      "outputs": [
        {
          "output_type": "stream",
          "name": "stdout",
          "text": [
            "Cloning into 'cora_project'...\n",
            "remote: Enumerating objects: 90, done.\u001b[K\n",
            "remote: Counting objects: 100% (90/90), done.\u001b[K\n",
            "remote: Compressing objects: 100% (89/89), done.\u001b[K\n",
            "remote: Total 90 (delta 52), reused 0 (delta 0), pack-reused 0\u001b[K\n",
            "Unpacking objects: 100% (90/90), done.\n"
          ]
        }
      ]
    },
    {
      "cell_type": "code",
      "execution_count": null,
      "metadata": {
        "id": "IFq-p5nMe3cS"
      },
      "outputs": [],
      "source": [
        "import pandas as pd\n",
        "import numpy as np\n",
        "\n",
        "from tensorflow.keras.models import Sequential\n",
        "from tensorflow.keras import layers, optimizers, losses, metrics, Model\n",
        "from keras.utils import np_utils\n",
        "from tensorflow.keras.callbacks import Callback\n",
        "\n",
        "from sklearn.preprocessing import LabelEncoder\n",
        "from sklearn.model_selection import StratifiedKFold\n",
        "\n",
        "from sklearn.metrics import accuracy_score"
      ]
    },
    {
      "cell_type": "code",
      "source": [
        "cora = pd.read_csv(\"./cora_project/cora.content\", delimiter=\"\\t\", header=None)\n",
        "y_labels = [\"Case_Based\", \"Genetic_Algorithms\", \"Neural_Networks\", \"Probabilistic_Methods\", \"Reinforcement_Learning\", \"Rule_Learning\", \"Theory\"]\n",
        "\n",
        "for i,label in enumerate(y_labels):\n",
        "    cora[1434][cora[1434]==label] = i"
      ],
      "metadata": {
        "colab": {
          "base_uri": "https://localhost:8080/"
        },
        "id": "nk90lZNce4xY",
        "outputId": "52001c9e-48b0-442c-91bf-234cf2492223"
      },
      "execution_count": null,
      "outputs": [
        {
          "output_type": "stream",
          "name": "stderr",
          "text": [
            "<ipython-input-3-4b8632f12a1b>:5: SettingWithCopyWarning: \n",
            "A value is trying to be set on a copy of a slice from a DataFrame\n",
            "\n",
            "See the caveats in the documentation: https://pandas.pydata.org/pandas-docs/stable/user_guide/indexing.html#returning-a-view-versus-a-copy\n",
            "  cora[1434][cora[1434]==label] = i\n"
          ]
        }
      ]
    },
    {
      "cell_type": "code",
      "source": [
        "X = np.asarray(cora.iloc[:,1:-1]).astype('float32')\n",
        "y = np.asarray(cora.iloc[:,-1]).astype('float32')"
      ],
      "metadata": {
        "id": "3g0WOc4tfpF-"
      },
      "execution_count": null,
      "outputs": []
    },
    {
      "cell_type": "code",
      "source": [
        "# encode class values as integers\n",
        "encoder = LabelEncoder()\n",
        "encoder.fit(y)\n",
        "encoded_Y = encoder.transform(y)\n"
      ],
      "metadata": {
        "id": "NjgDjV2zGIbE"
      },
      "execution_count": null,
      "outputs": []
    },
    {
      "cell_type": "code",
      "source": [
        "model = Sequential()\n",
        "model.add(layers.Dense(512, input_shape=(1433,), activation='relu'))\n",
        "model.add(layers.Dense(256, activation='relu'))\n",
        "model.add(layers.Dropout(0.4))\n",
        "model.add(layers.Dense(128, activation='relu'))\n",
        "model.add(layers.Dropout(0.4))\n",
        "model.add(layers.Dense(64, activation='relu'))\n",
        "model.add(layers.Dense(10, activation='relu'))\n",
        "model.add(layers.Dense(7, activation='softmax'))\n",
        "# compile the keras model\n",
        "model.compile(loss='categorical_crossentropy', optimizer='adam', metrics=['accuracy'])\n",
        "\n"
      ],
      "metadata": {
        "id": "z-JqaIzshhJ9"
      },
      "execution_count": null,
      "outputs": []
    },
    {
      "cell_type": "code",
      "source": [
        "# Implement callback function to stop training\n",
        "# when accuracy reaches e.g. ACCURACY_THRESHOLD = 0.95\n",
        "\n",
        "VALIDATION_ACCURACY_THRESHOLD = 0.75\n",
        "\n",
        "class myCallback(Callback): \n",
        "    def on_epoch_end(self, epoch, logs={}): \n",
        "        if(logs.get('val_accuracy') > VALIDATION_ACCURACY_THRESHOLD):   \n",
        "          print(\"\\nReached %2.2f%% accuracy, so stopping training!!\" %(VALIDATION_ACCURACY_THRESHOLD*100))   \n",
        "          self.model.stop_training = True\n",
        "\n",
        "callbacks = myCallback()\n"
      ],
      "metadata": {
        "id": "KTZyvgl7xXEn"
      },
      "execution_count": null,
      "outputs": []
    },
    {
      "cell_type": "code",
      "source": [
        "kFold = StratifiedKFold(n_splits=10)\n",
        "# fit the keras model on the dataset\n",
        "model_score = []\n",
        "for train, test in kFold.split(X, encoded_Y):\n",
        "  # convert integers to dummy variables (i.e. one hot encoded)\n",
        "  dummy_y = np_utils.to_categorical(encoded_Y)\n",
        "  model.fit(X[train], dummy_y[train], validation_data=(X[test], dummy_y[test]), epochs=20, batch_size=1, callbacks=[callbacks])\n",
        "  model_score.append([accuracy_score(encoded_Y[train],np.argmax(model.predict(X[train]), axis=1)), accuracy_score(encoded_Y[test],np.argmax(model.predict(X[test]), axis=1))])\n"
      ],
      "metadata": {
        "id": "6uN06U0NtmYM",
        "outputId": "690f48bd-5213-4291-f9e0-a2d8d52920f5",
        "colab": {
          "base_uri": "https://localhost:8080/"
        }
      },
      "execution_count": null,
      "outputs": [
        {
          "output_type": "stream",
          "name": "stdout",
          "text": [
            "Epoch 1/20\n",
            "2437/2437 [==============================] - 12s 4ms/step - loss: 1.5369 - accuracy: 0.3984 - val_loss: 1.1050 - val_accuracy: 0.6568\n",
            "Epoch 2/20\n",
            "2422/2437 [============================>.] - ETA: 0s - loss: 0.8798 - accuracy: 0.7164\n",
            "Reached 75.00% accuracy, so stopping training!!\n",
            "2437/2437 [==============================] - 7s 3ms/step - loss: 0.8806 - accuracy: 0.7169 - val_loss: 0.9344 - val_accuracy: 0.7638\n",
            "77/77 [==============================] - 0s 2ms/step\n",
            "9/9 [==============================] - 0s 2ms/step\n",
            "Epoch 1/20\n",
            "2422/2437 [============================>.] - ETA: 0s - loss: 0.4902 - accuracy: 0.8658\n",
            "Reached 75.00% accuracy, so stopping training!!\n",
            "2437/2437 [==============================] - 7s 3ms/step - loss: 0.4909 - accuracy: 0.8650 - val_loss: 0.5074 - val_accuracy: 0.8672\n",
            "77/77 [==============================] - 0s 2ms/step\n",
            "9/9 [==============================] - 0s 2ms/step\n",
            "Epoch 1/20\n",
            "2420/2437 [============================>.] - ETA: 0s - loss: 0.3188 - accuracy: 0.9136\n",
            "Reached 75.00% accuracy, so stopping training!!\n",
            "2437/2437 [==============================] - 8s 3ms/step - loss: 0.3181 - accuracy: 0.9138 - val_loss: 0.1939 - val_accuracy: 0.9373\n",
            "77/77 [==============================] - 0s 2ms/step\n",
            "9/9 [==============================] - 0s 2ms/step\n",
            "Epoch 1/20\n",
            "2427/2437 [============================>.] - ETA: 0s - loss: 0.1963 - accuracy: 0.9497\n",
            "Reached 75.00% accuracy, so stopping training!!\n",
            "2437/2437 [==============================] - 8s 3ms/step - loss: 0.1955 - accuracy: 0.9499 - val_loss: 0.1457 - val_accuracy: 0.9705\n",
            "77/77 [==============================] - 0s 2ms/step\n",
            "9/9 [==============================] - 0s 2ms/step\n",
            "Epoch 1/20\n",
            "2436/2437 [============================>.] - ETA: 0s - loss: 0.1338 - accuracy: 0.9655\n",
            "Reached 75.00% accuracy, so stopping training!!\n",
            "2437/2437 [==============================] - 8s 3ms/step - loss: 0.1338 - accuracy: 0.9655 - val_loss: 0.1577 - val_accuracy: 0.9815\n",
            "77/77 [==============================] - 0s 2ms/step\n",
            "9/9 [==============================] - 0s 2ms/step\n",
            "Epoch 1/20\n",
            "2429/2437 [============================>.] - ETA: 0s - loss: 0.0911 - accuracy: 0.9790\n",
            "Reached 75.00% accuracy, so stopping training!!\n",
            "2437/2437 [==============================] - 7s 3ms/step - loss: 0.0910 - accuracy: 0.9791 - val_loss: 0.0307 - val_accuracy: 0.9963\n",
            "77/77 [==============================] - 0s 2ms/step\n",
            "9/9 [==============================] - 0s 2ms/step\n",
            "Epoch 1/20\n",
            "2434/2437 [============================>.] - ETA: 0s - loss: 0.0678 - accuracy: 0.9848\n",
            "Reached 75.00% accuracy, so stopping training!!\n",
            "2437/2437 [==============================] - 8s 3ms/step - loss: 0.0677 - accuracy: 0.9848 - val_loss: 0.0016 - val_accuracy: 1.0000\n",
            "77/77 [==============================] - 0s 2ms/step\n",
            "9/9 [==============================] - 0s 2ms/step\n",
            "Epoch 1/20\n",
            "2432/2437 [============================>.] - ETA: 0s - loss: 0.0572 - accuracy: 0.9873\n",
            "Reached 75.00% accuracy, so stopping training!!\n",
            "2437/2437 [==============================] - 9s 4ms/step - loss: 0.0571 - accuracy: 0.9873 - val_loss: 0.0174 - val_accuracy: 1.0000\n",
            "77/77 [==============================] - 0s 2ms/step\n",
            "9/9 [==============================] - 0s 2ms/step\n",
            "Epoch 1/20\n",
            "2423/2438 [============================>.] - ETA: 0s - loss: 0.0459 - accuracy: 0.9926\n",
            "Reached 75.00% accuracy, so stopping training!!\n",
            "2438/2438 [==============================] - 7s 3ms/step - loss: 0.0456 - accuracy: 0.9926 - val_loss: 0.0149 - val_accuracy: 0.9926\n",
            "77/77 [==============================] - 0s 2ms/step\n",
            "9/9 [==============================] - 0s 2ms/step\n",
            "Epoch 1/20\n",
            "2428/2438 [============================>.] - ETA: 0s - loss: 0.0566 - accuracy: 0.9905\n",
            "Reached 75.00% accuracy, so stopping training!!\n",
            "2438/2438 [==============================] - 8s 3ms/step - loss: 0.0567 - accuracy: 0.9906 - val_loss: 0.0166 - val_accuracy: 1.0000\n",
            "77/77 [==============================] - 0s 2ms/step\n",
            "9/9 [==============================] - 0s 2ms/step\n"
          ]
        }
      ]
    },
    {
      "cell_type": "code",
      "source": [
        "model_score"
      ],
      "metadata": {
        "id": "S_ahjRWAO2jG",
        "outputId": "9dd9e3ff-44e1-42b3-891d-f07f20b924da",
        "colab": {
          "base_uri": "https://localhost:8080/"
        }
      },
      "execution_count": null,
      "outputs": [
        {
          "output_type": "execute_result",
          "data": {
            "text/plain": [
              "[[0.8978251949117768, 0.7638376383763837],\n",
              " [0.9343455067706196, 0.8671586715867159],\n",
              " [0.9585556011489537, 0.9372693726937269],\n",
              " [0.9720968403775133, 0.9704797047970479],\n",
              " [0.9856380796060731, 0.981549815498155],\n",
              " [0.9909725071809602, 0.996309963099631],\n",
              " [0.993434550677062, 1.0],\n",
              " [0.9954862535904802, 1.0],\n",
              " [0.9967186218211649, 0.9925925925925926],\n",
              " [0.9979491386382281, 1.0]]"
            ]
          },
          "metadata": {},
          "execution_count": 9
        }
      ]
    },
    {
      "cell_type": "code",
      "source": [
        "counter = 0\n",
        "d = {'Model': [], 'Fold_1': [], 'Fold_2': [], 'Fold_3': [], 'Fold_4': [], 'Fold_5': [], 'Fold_6': [], 'Fold_7': [], 'Fold_8': [], 'Fold_9': [], 'Fold_10': [],'Average': []}\n",
        "df_test = pd.DataFrame(data=d)\n",
        "df_train = pd.DataFrame(data=d)\n",
        "\n",
        "fold_val_score_list_test = [\"MLP\"]\n",
        "fold_val_score_list_train = [\"MLP\"]\n",
        "for fold_score in model_score:\n",
        "  fold_val_score_list_test.append(fold_score[1])\n",
        "  fold_val_score_list_train.append(fold_score[0])\n",
        "fold_val_score_list_test.append(np.mean(np.array(model_score), axis=0)[1])\n",
        "fold_val_score_list_train.append(np.mean(np.array(model_score), axis=0)[0])\n",
        "df_test.loc[len(df_test)] = fold_val_score_list_test\n",
        "df_train.loc[len(df_train)] = fold_val_score_list_train\n",
        "counter+=1"
      ],
      "metadata": {
        "id": "FedxVW7IPEdS"
      },
      "execution_count": null,
      "outputs": []
    },
    {
      "cell_type": "code",
      "source": [
        "df_test"
      ],
      "metadata": {
        "id": "bBFyKrsFPY8T",
        "outputId": "aa937d87-bc6e-4329-8422-1864fedfdf43",
        "colab": {
          "base_uri": "https://localhost:8080/",
          "height": 81
        }
      },
      "execution_count": null,
      "outputs": [
        {
          "output_type": "execute_result",
          "data": {
            "text/plain": [
              "  Model    Fold_1    Fold_2    Fold_3   Fold_4   Fold_5   Fold_6  Fold_7  \\\n",
              "0   MLP  0.763838  0.867159  0.937269  0.97048  0.98155  0.99631     1.0   \n",
              "\n",
              "   Fold_8    Fold_9  Fold_10  Average  \n",
              "0     1.0  0.992593      1.0  0.95092  "
            ],
            "text/html": [
              "\n",
              "  <div id=\"df-4372da4d-233e-452f-8791-d6e21a6c2ab8\">\n",
              "    <div class=\"colab-df-container\">\n",
              "      <div>\n",
              "<style scoped>\n",
              "    .dataframe tbody tr th:only-of-type {\n",
              "        vertical-align: middle;\n",
              "    }\n",
              "\n",
              "    .dataframe tbody tr th {\n",
              "        vertical-align: top;\n",
              "    }\n",
              "\n",
              "    .dataframe thead th {\n",
              "        text-align: right;\n",
              "    }\n",
              "</style>\n",
              "<table border=\"1\" class=\"dataframe\">\n",
              "  <thead>\n",
              "    <tr style=\"text-align: right;\">\n",
              "      <th></th>\n",
              "      <th>Model</th>\n",
              "      <th>Fold_1</th>\n",
              "      <th>Fold_2</th>\n",
              "      <th>Fold_3</th>\n",
              "      <th>Fold_4</th>\n",
              "      <th>Fold_5</th>\n",
              "      <th>Fold_6</th>\n",
              "      <th>Fold_7</th>\n",
              "      <th>Fold_8</th>\n",
              "      <th>Fold_9</th>\n",
              "      <th>Fold_10</th>\n",
              "      <th>Average</th>\n",
              "    </tr>\n",
              "  </thead>\n",
              "  <tbody>\n",
              "    <tr>\n",
              "      <th>0</th>\n",
              "      <td>MLP</td>\n",
              "      <td>0.763838</td>\n",
              "      <td>0.867159</td>\n",
              "      <td>0.937269</td>\n",
              "      <td>0.97048</td>\n",
              "      <td>0.98155</td>\n",
              "      <td>0.99631</td>\n",
              "      <td>1.0</td>\n",
              "      <td>1.0</td>\n",
              "      <td>0.992593</td>\n",
              "      <td>1.0</td>\n",
              "      <td>0.95092</td>\n",
              "    </tr>\n",
              "  </tbody>\n",
              "</table>\n",
              "</div>\n",
              "      <button class=\"colab-df-convert\" onclick=\"convertToInteractive('df-4372da4d-233e-452f-8791-d6e21a6c2ab8')\"\n",
              "              title=\"Convert this dataframe to an interactive table.\"\n",
              "              style=\"display:none;\">\n",
              "        \n",
              "  <svg xmlns=\"http://www.w3.org/2000/svg\" height=\"24px\"viewBox=\"0 0 24 24\"\n",
              "       width=\"24px\">\n",
              "    <path d=\"M0 0h24v24H0V0z\" fill=\"none\"/>\n",
              "    <path d=\"M18.56 5.44l.94 2.06.94-2.06 2.06-.94-2.06-.94-.94-2.06-.94 2.06-2.06.94zm-11 1L8.5 8.5l.94-2.06 2.06-.94-2.06-.94L8.5 2.5l-.94 2.06-2.06.94zm10 10l.94 2.06.94-2.06 2.06-.94-2.06-.94-.94-2.06-.94 2.06-2.06.94z\"/><path d=\"M17.41 7.96l-1.37-1.37c-.4-.4-.92-.59-1.43-.59-.52 0-1.04.2-1.43.59L10.3 9.45l-7.72 7.72c-.78.78-.78 2.05 0 2.83L4 21.41c.39.39.9.59 1.41.59.51 0 1.02-.2 1.41-.59l7.78-7.78 2.81-2.81c.8-.78.8-2.07 0-2.86zM5.41 20L4 18.59l7.72-7.72 1.47 1.35L5.41 20z\"/>\n",
              "  </svg>\n",
              "      </button>\n",
              "      \n",
              "  <style>\n",
              "    .colab-df-container {\n",
              "      display:flex;\n",
              "      flex-wrap:wrap;\n",
              "      gap: 12px;\n",
              "    }\n",
              "\n",
              "    .colab-df-convert {\n",
              "      background-color: #E8F0FE;\n",
              "      border: none;\n",
              "      border-radius: 50%;\n",
              "      cursor: pointer;\n",
              "      display: none;\n",
              "      fill: #1967D2;\n",
              "      height: 32px;\n",
              "      padding: 0 0 0 0;\n",
              "      width: 32px;\n",
              "    }\n",
              "\n",
              "    .colab-df-convert:hover {\n",
              "      background-color: #E2EBFA;\n",
              "      box-shadow: 0px 1px 2px rgba(60, 64, 67, 0.3), 0px 1px 3px 1px rgba(60, 64, 67, 0.15);\n",
              "      fill: #174EA6;\n",
              "    }\n",
              "\n",
              "    [theme=dark] .colab-df-convert {\n",
              "      background-color: #3B4455;\n",
              "      fill: #D2E3FC;\n",
              "    }\n",
              "\n",
              "    [theme=dark] .colab-df-convert:hover {\n",
              "      background-color: #434B5C;\n",
              "      box-shadow: 0px 1px 3px 1px rgba(0, 0, 0, 0.15);\n",
              "      filter: drop-shadow(0px 1px 2px rgba(0, 0, 0, 0.3));\n",
              "      fill: #FFFFFF;\n",
              "    }\n",
              "  </style>\n",
              "\n",
              "      <script>\n",
              "        const buttonEl =\n",
              "          document.querySelector('#df-4372da4d-233e-452f-8791-d6e21a6c2ab8 button.colab-df-convert');\n",
              "        buttonEl.style.display =\n",
              "          google.colab.kernel.accessAllowed ? 'block' : 'none';\n",
              "\n",
              "        async function convertToInteractive(key) {\n",
              "          const element = document.querySelector('#df-4372da4d-233e-452f-8791-d6e21a6c2ab8');\n",
              "          const dataTable =\n",
              "            await google.colab.kernel.invokeFunction('convertToInteractive',\n",
              "                                                     [key], {});\n",
              "          if (!dataTable) return;\n",
              "\n",
              "          const docLinkHtml = 'Like what you see? Visit the ' +\n",
              "            '<a target=\"_blank\" href=https://colab.research.google.com/notebooks/data_table.ipynb>data table notebook</a>'\n",
              "            + ' to learn more about interactive tables.';\n",
              "          element.innerHTML = '';\n",
              "          dataTable['output_type'] = 'display_data';\n",
              "          await google.colab.output.renderOutput(dataTable, element);\n",
              "          const docLink = document.createElement('div');\n",
              "          docLink.innerHTML = docLinkHtml;\n",
              "          element.appendChild(docLink);\n",
              "        }\n",
              "      </script>\n",
              "    </div>\n",
              "  </div>\n",
              "  "
            ]
          },
          "metadata": {},
          "execution_count": 11
        }
      ]
    },
    {
      "cell_type": "code",
      "source": [
        "df_train"
      ],
      "metadata": {
        "id": "WjJLq_O1PeIK",
        "outputId": "6c17da38-f9bd-4e71-ef5d-e12707299a11",
        "colab": {
          "base_uri": "https://localhost:8080/",
          "height": 81
        }
      },
      "execution_count": null,
      "outputs": [
        {
          "output_type": "execute_result",
          "data": {
            "text/plain": [
              "  Model    Fold_1    Fold_2    Fold_3    Fold_4    Fold_5    Fold_6    Fold_7  \\\n",
              "0   MLP  0.897825  0.934346  0.958556  0.972097  0.985638  0.990973  0.993435   \n",
              "\n",
              "     Fold_8    Fold_9   Fold_10   Average  \n",
              "0  0.995486  0.996719  0.997949  0.972302  "
            ],
            "text/html": [
              "\n",
              "  <div id=\"df-fb18a508-9ef3-42bf-b509-4ee2fa539484\">\n",
              "    <div class=\"colab-df-container\">\n",
              "      <div>\n",
              "<style scoped>\n",
              "    .dataframe tbody tr th:only-of-type {\n",
              "        vertical-align: middle;\n",
              "    }\n",
              "\n",
              "    .dataframe tbody tr th {\n",
              "        vertical-align: top;\n",
              "    }\n",
              "\n",
              "    .dataframe thead th {\n",
              "        text-align: right;\n",
              "    }\n",
              "</style>\n",
              "<table border=\"1\" class=\"dataframe\">\n",
              "  <thead>\n",
              "    <tr style=\"text-align: right;\">\n",
              "      <th></th>\n",
              "      <th>Model</th>\n",
              "      <th>Fold_1</th>\n",
              "      <th>Fold_2</th>\n",
              "      <th>Fold_3</th>\n",
              "      <th>Fold_4</th>\n",
              "      <th>Fold_5</th>\n",
              "      <th>Fold_6</th>\n",
              "      <th>Fold_7</th>\n",
              "      <th>Fold_8</th>\n",
              "      <th>Fold_9</th>\n",
              "      <th>Fold_10</th>\n",
              "      <th>Average</th>\n",
              "    </tr>\n",
              "  </thead>\n",
              "  <tbody>\n",
              "    <tr>\n",
              "      <th>0</th>\n",
              "      <td>MLP</td>\n",
              "      <td>0.897825</td>\n",
              "      <td>0.934346</td>\n",
              "      <td>0.958556</td>\n",
              "      <td>0.972097</td>\n",
              "      <td>0.985638</td>\n",
              "      <td>0.990973</td>\n",
              "      <td>0.993435</td>\n",
              "      <td>0.995486</td>\n",
              "      <td>0.996719</td>\n",
              "      <td>0.997949</td>\n",
              "      <td>0.972302</td>\n",
              "    </tr>\n",
              "  </tbody>\n",
              "</table>\n",
              "</div>\n",
              "      <button class=\"colab-df-convert\" onclick=\"convertToInteractive('df-fb18a508-9ef3-42bf-b509-4ee2fa539484')\"\n",
              "              title=\"Convert this dataframe to an interactive table.\"\n",
              "              style=\"display:none;\">\n",
              "        \n",
              "  <svg xmlns=\"http://www.w3.org/2000/svg\" height=\"24px\"viewBox=\"0 0 24 24\"\n",
              "       width=\"24px\">\n",
              "    <path d=\"M0 0h24v24H0V0z\" fill=\"none\"/>\n",
              "    <path d=\"M18.56 5.44l.94 2.06.94-2.06 2.06-.94-2.06-.94-.94-2.06-.94 2.06-2.06.94zm-11 1L8.5 8.5l.94-2.06 2.06-.94-2.06-.94L8.5 2.5l-.94 2.06-2.06.94zm10 10l.94 2.06.94-2.06 2.06-.94-2.06-.94-.94-2.06-.94 2.06-2.06.94z\"/><path d=\"M17.41 7.96l-1.37-1.37c-.4-.4-.92-.59-1.43-.59-.52 0-1.04.2-1.43.59L10.3 9.45l-7.72 7.72c-.78.78-.78 2.05 0 2.83L4 21.41c.39.39.9.59 1.41.59.51 0 1.02-.2 1.41-.59l7.78-7.78 2.81-2.81c.8-.78.8-2.07 0-2.86zM5.41 20L4 18.59l7.72-7.72 1.47 1.35L5.41 20z\"/>\n",
              "  </svg>\n",
              "      </button>\n",
              "      \n",
              "  <style>\n",
              "    .colab-df-container {\n",
              "      display:flex;\n",
              "      flex-wrap:wrap;\n",
              "      gap: 12px;\n",
              "    }\n",
              "\n",
              "    .colab-df-convert {\n",
              "      background-color: #E8F0FE;\n",
              "      border: none;\n",
              "      border-radius: 50%;\n",
              "      cursor: pointer;\n",
              "      display: none;\n",
              "      fill: #1967D2;\n",
              "      height: 32px;\n",
              "      padding: 0 0 0 0;\n",
              "      width: 32px;\n",
              "    }\n",
              "\n",
              "    .colab-df-convert:hover {\n",
              "      background-color: #E2EBFA;\n",
              "      box-shadow: 0px 1px 2px rgba(60, 64, 67, 0.3), 0px 1px 3px 1px rgba(60, 64, 67, 0.15);\n",
              "      fill: #174EA6;\n",
              "    }\n",
              "\n",
              "    [theme=dark] .colab-df-convert {\n",
              "      background-color: #3B4455;\n",
              "      fill: #D2E3FC;\n",
              "    }\n",
              "\n",
              "    [theme=dark] .colab-df-convert:hover {\n",
              "      background-color: #434B5C;\n",
              "      box-shadow: 0px 1px 3px 1px rgba(0, 0, 0, 0.15);\n",
              "      filter: drop-shadow(0px 1px 2px rgba(0, 0, 0, 0.3));\n",
              "      fill: #FFFFFF;\n",
              "    }\n",
              "  </style>\n",
              "\n",
              "      <script>\n",
              "        const buttonEl =\n",
              "          document.querySelector('#df-fb18a508-9ef3-42bf-b509-4ee2fa539484 button.colab-df-convert');\n",
              "        buttonEl.style.display =\n",
              "          google.colab.kernel.accessAllowed ? 'block' : 'none';\n",
              "\n",
              "        async function convertToInteractive(key) {\n",
              "          const element = document.querySelector('#df-fb18a508-9ef3-42bf-b509-4ee2fa539484');\n",
              "          const dataTable =\n",
              "            await google.colab.kernel.invokeFunction('convertToInteractive',\n",
              "                                                     [key], {});\n",
              "          if (!dataTable) return;\n",
              "\n",
              "          const docLinkHtml = 'Like what you see? Visit the ' +\n",
              "            '<a target=\"_blank\" href=https://colab.research.google.com/notebooks/data_table.ipynb>data table notebook</a>'\n",
              "            + ' to learn more about interactive tables.';\n",
              "          element.innerHTML = '';\n",
              "          dataTable['output_type'] = 'display_data';\n",
              "          await google.colab.output.renderOutput(dataTable, element);\n",
              "          const docLink = document.createElement('div');\n",
              "          docLink.innerHTML = docLinkHtml;\n",
              "          element.appendChild(docLink);\n",
              "        }\n",
              "      </script>\n",
              "    </div>\n",
              "  </div>\n",
              "  "
            ]
          },
          "metadata": {},
          "execution_count": 12
        }
      ]
    },
    {
      "cell_type": "code",
      "source": [
        "df_train.to_csv(\"NN_Train_ACC.tsv\", sep=\"\\t\")\n",
        "df_test.to_csv(\"NN_Test_ACC.tsv\", sep=\"\\t\")"
      ],
      "metadata": {
        "id": "7IkrKo5NQ4XP"
      },
      "execution_count": null,
      "outputs": []
    },
    {
      "cell_type": "code",
      "source": [
        "list_predictions = []\n",
        "folds_val_acc = []\n",
        "for train, test in kFold.split(X, encoded_Y):\n",
        "  fold_predictions = np.argmax(model.predict(X[test]), axis=1)\n",
        "  list_predictions.append(fold_predictions) \n",
        "  dummy_y = np_utils.to_categorical(encoded_Y)\n",
        "  folds_val_acc.append(model.evaluate(X[test], dummy_y[test]))"
      ],
      "metadata": {
        "id": "NSJRVc35tVeM",
        "outputId": "508d67c7-c2cd-4a35-f619-b0b40616e58d",
        "colab": {
          "base_uri": "https://localhost:8080/"
        }
      },
      "execution_count": null,
      "outputs": [
        {
          "output_type": "stream",
          "name": "stdout",
          "text": [
            "9/9 [==============================] - 0s 2ms/step\n",
            "9/9 [==============================] - 0s 3ms/step - loss: 0.0115 - accuracy: 0.9926\n",
            "9/9 [==============================] - 0s 2ms/step\n",
            "9/9 [==============================] - 0s 3ms/step - loss: 0.0038 - accuracy: 1.0000\n",
            "9/9 [==============================] - 0s 2ms/step\n",
            "9/9 [==============================] - 0s 4ms/step - loss: 0.0055 - accuracy: 1.0000\n",
            "9/9 [==============================] - 0s 2ms/step\n",
            "9/9 [==============================] - 0s 3ms/step - loss: 0.0228 - accuracy: 0.9963\n",
            "9/9 [==============================] - 0s 2ms/step\n",
            "9/9 [==============================] - 0s 4ms/step - loss: 0.0070 - accuracy: 1.0000\n",
            "9/9 [==============================] - 0s 2ms/step\n",
            "9/9 [==============================] - 0s 3ms/step - loss: 8.2301e-04 - accuracy: 1.0000\n",
            "9/9 [==============================] - 0s 2ms/step\n",
            "9/9 [==============================] - 0s 3ms/step - loss: 0.0213 - accuracy: 0.9963\n",
            "9/9 [==============================] - 0s 3ms/step\n",
            "9/9 [==============================] - 0s 3ms/step - loss: 0.0153 - accuracy: 1.0000\n",
            "9/9 [==============================] - 0s 2ms/step\n",
            "9/9 [==============================] - 0s 3ms/step - loss: 0.0114 - accuracy: 0.9963\n",
            "9/9 [==============================] - 0s 2ms/step\n",
            "9/9 [==============================] - 0s 3ms/step - loss: 0.0166 - accuracy: 1.0000\n"
          ]
        }
      ]
    },
    {
      "cell_type": "code",
      "source": [
        "final_predictions = []\n",
        "for fold_prediction in list_predictions:\n",
        "  for item in fold_prediction:\n",
        "    final_predictions.append(y_labels[item])"
      ],
      "metadata": {
        "id": "JXTT153W1lhw"
      },
      "execution_count": null,
      "outputs": []
    },
    {
      "cell_type": "code",
      "source": [
        "final_predictions_array = np.array([cora.iloc[:,0],final_predictions]).T"
      ],
      "metadata": {
        "id": "Mvb6bkhZ3vac"
      },
      "execution_count": null,
      "outputs": []
    },
    {
      "cell_type": "code",
      "source": [
        "final_predictions_array"
      ],
      "metadata": {
        "id": "oQdS_tyf3_zW",
        "outputId": "5748f3cf-f1a7-45a7-d2eb-5ca0d521c530",
        "colab": {
          "base_uri": "https://localhost:8080/"
        }
      },
      "execution_count": null,
      "outputs": [
        {
          "output_type": "execute_result",
          "data": {
            "text/plain": [
              "array([['31336', 'Neural_Networks'],\n",
              "       ['1061127', 'Rule_Learning'],\n",
              "       ['1106406', 'Reinforcement_Learning'],\n",
              "       ...,\n",
              "       ['1128978', 'Genetic_Algorithms'],\n",
              "       ['117328', 'Case_Based'],\n",
              "       ['24043', 'Neural_Networks']], dtype='<U22')"
            ]
          },
          "metadata": {},
          "execution_count": 17
        }
      ]
    },
    {
      "cell_type": "code",
      "source": [
        "list_ids = list(cora.iloc[:,0])"
      ],
      "metadata": {
        "id": "Za3qbcqt58FA"
      },
      "execution_count": null,
      "outputs": []
    },
    {
      "cell_type": "code",
      "source": [
        "d = {'IDs': list_ids, 'Predictions': final_predictions}\n",
        "df = pd.DataFrame(data=d)"
      ],
      "metadata": {
        "id": "8VjUIy996yn8"
      },
      "execution_count": null,
      "outputs": []
    },
    {
      "cell_type": "code",
      "source": [
        "df.to_csv('final_predictions.tsv', sep=\"\\t\")"
      ],
      "metadata": {
        "id": "n0H0_Wez5ZI9"
      },
      "execution_count": null,
      "outputs": []
    },
    {
      "cell_type": "code",
      "source": [],
      "metadata": {
        "id": "4rEDG7gM4TmZ"
      },
      "execution_count": null,
      "outputs": []
    }
  ]
}